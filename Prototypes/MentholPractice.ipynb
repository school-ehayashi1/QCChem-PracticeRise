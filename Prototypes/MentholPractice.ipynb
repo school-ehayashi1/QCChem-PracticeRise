{
 "cells": [
  {
   "cell_type": "code",
   "execution_count": 19,
   "metadata": {},
   "outputs": [],
   "source": [
    "from qiskit_nature.second_q.drivers import ElectronicStructureDriver, PySCFDriver\n",
    "from qiskit_nature.units import DistanceUnit\n",
    "from qiskit_nature.second_q.formats.molecule_info import MoleculeInfo\n",
    "# https://www.webqc.org/molecularformatsconverter.php"
   ]
  },
  {
   "cell_type": "code",
   "execution_count": 20,
   "metadata": {},
   "outputs": [
    {
     "name": "stdout",
     "output_type": "stream",
     "text": [
      "['C         -1.99200        1.15000        0.00000\\n', 'C         -1.99200       -0.39100        0.00000\\n', 'C         -0.66100       -1.15700        0.00000\\n', 'C          0.66200       -0.39100        0.00000\\n', 'C          0.66200        1.15000        0.00000\\n', 'C         -0.66100        1.92400        0.00000\\n', 'C         -0.66100       -2.69800        0.00000\\n', 'C         -1.99600       -3.46500        0.00000\\n', 'C          0.66700       -3.46500        0.00000\\n', 'C         -0.66100        3.46500        0.00000\\n', 'O          1.99600       -1.16700        0.00000']\n"
     ]
    }
   ],
   "source": [
    "# https://docs.python.org/3/tutorial/inputoutput.html\n",
    "with open(\"DataBank Folder/menthol_tester.xyz\") as f:\n",
    "    s = f.readlines()\n",
    "xyz = s[2:]\n",
    "print(xyz)\n",
    "def process_xyz(file):\n",
    "    total = []\n",
    "    symbols = [i.split()[0] for i in file]\n",
    "    total = [tuple(i.split()[1:]) for i in file]\n",
    "    return symbols, total\n",
    "molecule = MoleculeInfo(\n",
    "    symbols = process_xyz(xyz)[0],\n",
    "    coords = process_xyz(xyz)[1],\n",
    "    multiplicity=1,\n",
    "    charge=0\n",
    ")\n"
   ]
  },
  {
   "cell_type": "code",
   "execution_count": 21,
   "metadata": {},
   "outputs": [],
   "source": [
    "from qiskit_nature.second_q.problems import ElectronicStructureProblem\n",
    "driver = PySCFDriver.from_molecule(molecule, basis=\"sto3g\")\n",
    "problem = driver.run()"
   ]
  },
  {
   "cell_type": "code",
   "execution_count": 22,
   "metadata": {},
   "outputs": [
    {
     "ename": "KeyboardInterrupt",
     "evalue": "",
     "output_type": "error",
     "traceback": [
      "\u001b[0;31m---------------------------------------------------------------------------\u001b[0m",
      "\u001b[0;31mKeyboardInterrupt\u001b[0m                         Traceback (most recent call last)",
      "Cell \u001b[0;32mIn[22], line 6\u001b[0m\n\u001b[1;32m      1\u001b[0m \u001b[38;5;28;01mfrom\u001b[39;00m \u001b[38;5;21;01mqiskit_nature\u001b[39;00m\u001b[38;5;21;01m.\u001b[39;00m\u001b[38;5;21;01msecond_q\u001b[39;00m\u001b[38;5;21;01m.\u001b[39;00m\u001b[38;5;21;01mdrivers\u001b[39;00m \u001b[38;5;28;01mimport\u001b[39;00m PySCFDriver\n\u001b[1;32m      2\u001b[0m driver \u001b[38;5;241m=\u001b[39m PySCFDriver(\n\u001b[1;32m      3\u001b[0m     atom\u001b[38;5;241m=\u001b[39m\u001b[38;5;124m\"\u001b[39m\u001b[38;5;124m; \u001b[39m\u001b[38;5;124m\"\u001b[39m\u001b[38;5;241m.\u001b[39mjoin([i\u001b[38;5;241m.\u001b[39mreplace(\u001b[38;5;124m'\u001b[39m\u001b[38;5;130;01m\\n\u001b[39;00m\u001b[38;5;124m'\u001b[39m, \u001b[38;5;124m'\u001b[39m\u001b[38;5;124m \u001b[39m\u001b[38;5;124m'\u001b[39m) \u001b[38;5;28;01mfor\u001b[39;00m i \u001b[38;5;129;01min\u001b[39;00m xyz]),\n\u001b[1;32m      4\u001b[0m     unit \u001b[38;5;241m=\u001b[39m DistanceUnit\u001b[38;5;241m.\u001b[39mANGSTROM, \n\u001b[1;32m      5\u001b[0m )\n\u001b[0;32m----> 6\u001b[0m problem \u001b[38;5;241m=\u001b[39m \u001b[43mdriver\u001b[49m\u001b[38;5;241;43m.\u001b[39;49m\u001b[43mrun\u001b[49m\u001b[43m(\u001b[49m\u001b[43m)\u001b[49m\n",
      "File \u001b[0;32m~/.python/current/lib/python3.10/site-packages/qiskit_nature/second_q/drivers/pyscfd/pyscfdriver.py:370\u001b[0m, in \u001b[0;36mPySCFDriver.run\u001b[0;34m(self)\u001b[0m\n\u001b[1;32m    361\u001b[0m \u001b[38;5;28;01mdef\u001b[39;00m \u001b[38;5;21mrun\u001b[39m(\u001b[38;5;28mself\u001b[39m) \u001b[38;5;241m-\u001b[39m\u001b[38;5;241m>\u001b[39m ElectronicStructureProblem:\n\u001b[1;32m    362\u001b[0m \u001b[38;5;250m    \u001b[39m\u001b[38;5;124;03m\"\"\"Runs the driver to produce a result.\u001b[39;00m\n\u001b[1;32m    363\u001b[0m \n\u001b[1;32m    364\u001b[0m \u001b[38;5;124;03m    Returns:\u001b[39;00m\n\u001b[0;32m   (...)\u001b[0m\n\u001b[1;32m    368\u001b[0m \u001b[38;5;124;03m        QiskitNatureError: if an error during the PySCF setup or calculation occurred.\u001b[39;00m\n\u001b[1;32m    369\u001b[0m \u001b[38;5;124;03m    \"\"\"\u001b[39;00m\n\u001b[0;32m--> 370\u001b[0m     \u001b[38;5;28;43mself\u001b[39;49m\u001b[38;5;241;43m.\u001b[39;49m\u001b[43mrun_pyscf\u001b[49m\u001b[43m(\u001b[49m\u001b[43m)\u001b[49m\n\u001b[1;32m    371\u001b[0m     \u001b[38;5;28;01mreturn\u001b[39;00m \u001b[38;5;28mself\u001b[39m\u001b[38;5;241m.\u001b[39mto_problem()\n",
      "File \u001b[0;32m~/.python/current/lib/python3.10/site-packages/qiskit_nature/second_q/drivers/pyscfd/pyscfdriver.py:498\u001b[0m, in \u001b[0;36mPySCFDriver.run_pyscf\u001b[0;34m(self)\u001b[0m\n\u001b[1;32m    496\u001b[0m \u001b[38;5;28mself\u001b[39m\u001b[38;5;241m.\u001b[39m_calc\u001b[38;5;241m.\u001b[39mmax_cycle \u001b[38;5;241m=\u001b[39m \u001b[38;5;28mself\u001b[39m\u001b[38;5;241m.\u001b[39m_max_cycle\n\u001b[1;32m    497\u001b[0m \u001b[38;5;28mself\u001b[39m\u001b[38;5;241m.\u001b[39m_calc\u001b[38;5;241m.\u001b[39minit_guess \u001b[38;5;241m=\u001b[39m \u001b[38;5;28mself\u001b[39m\u001b[38;5;241m.\u001b[39m_init_guess\n\u001b[0;32m--> 498\u001b[0m \u001b[38;5;28;43mself\u001b[39;49m\u001b[38;5;241;43m.\u001b[39;49m\u001b[43m_calc\u001b[49m\u001b[38;5;241;43m.\u001b[39;49m\u001b[43mkernel\u001b[49m\u001b[43m(\u001b[49m\u001b[43m)\u001b[49m\n\u001b[1;32m    500\u001b[0m logger\u001b[38;5;241m.\u001b[39minfo(\n\u001b[1;32m    501\u001b[0m     \u001b[38;5;124m\"\u001b[39m\u001b[38;5;124mPySCF kernel() converged: \u001b[39m\u001b[38;5;132;01m%s\u001b[39;00m\u001b[38;5;124m, e(hf): \u001b[39m\u001b[38;5;132;01m%s\u001b[39;00m\u001b[38;5;124m\"\u001b[39m,\n\u001b[1;32m    502\u001b[0m     \u001b[38;5;28mself\u001b[39m\u001b[38;5;241m.\u001b[39m_calc\u001b[38;5;241m.\u001b[39mconverged,\n\u001b[1;32m    503\u001b[0m     \u001b[38;5;28mself\u001b[39m\u001b[38;5;241m.\u001b[39m_calc\u001b[38;5;241m.\u001b[39me_tot,\n\u001b[1;32m    504\u001b[0m )\n",
      "File \u001b[0;32m<string>:2\u001b[0m, in \u001b[0;36mkernel\u001b[0;34m(self, dm0, **kwargs)\u001b[0m\n",
      "File \u001b[0;32m~/.python/current/lib/python3.10/site-packages/pyscf/scf/hf.py:1718\u001b[0m, in \u001b[0;36mSCF.scf\u001b[0;34m(self, dm0, **kwargs)\u001b[0m\n\u001b[1;32m   1713\u001b[0m \u001b[38;5;28mself\u001b[39m\u001b[38;5;241m.\u001b[39mbuild(\u001b[38;5;28mself\u001b[39m\u001b[38;5;241m.\u001b[39mmol)\n\u001b[1;32m   1715\u001b[0m \u001b[38;5;28;01mif\u001b[39;00m \u001b[38;5;28mself\u001b[39m\u001b[38;5;241m.\u001b[39mmax_cycle \u001b[38;5;241m>\u001b[39m \u001b[38;5;241m0\u001b[39m \u001b[38;5;129;01mor\u001b[39;00m \u001b[38;5;28mself\u001b[39m\u001b[38;5;241m.\u001b[39mmo_coeff \u001b[38;5;129;01mis\u001b[39;00m \u001b[38;5;28;01mNone\u001b[39;00m:\n\u001b[1;32m   1716\u001b[0m     \u001b[38;5;28mself\u001b[39m\u001b[38;5;241m.\u001b[39mconverged, \u001b[38;5;28mself\u001b[39m\u001b[38;5;241m.\u001b[39me_tot, \\\n\u001b[1;32m   1717\u001b[0m             \u001b[38;5;28mself\u001b[39m\u001b[38;5;241m.\u001b[39mmo_energy, \u001b[38;5;28mself\u001b[39m\u001b[38;5;241m.\u001b[39mmo_coeff, \u001b[38;5;28mself\u001b[39m\u001b[38;5;241m.\u001b[39mmo_occ \u001b[38;5;241m=\u001b[39m \\\n\u001b[0;32m-> 1718\u001b[0m             \u001b[43mkernel\u001b[49m\u001b[43m(\u001b[49m\u001b[38;5;28;43mself\u001b[39;49m\u001b[43m,\u001b[49m\u001b[43m \u001b[49m\u001b[38;5;28;43mself\u001b[39;49m\u001b[38;5;241;43m.\u001b[39;49m\u001b[43mconv_tol\u001b[49m\u001b[43m,\u001b[49m\u001b[43m \u001b[49m\u001b[38;5;28;43mself\u001b[39;49m\u001b[38;5;241;43m.\u001b[39;49m\u001b[43mconv_tol_grad\u001b[49m\u001b[43m,\u001b[49m\n\u001b[1;32m   1719\u001b[0m \u001b[43m                   \u001b[49m\u001b[43mdm0\u001b[49m\u001b[38;5;241;43m=\u001b[39;49m\u001b[43mdm0\u001b[49m\u001b[43m,\u001b[49m\u001b[43m \u001b[49m\u001b[43mcallback\u001b[49m\u001b[38;5;241;43m=\u001b[39;49m\u001b[38;5;28;43mself\u001b[39;49m\u001b[38;5;241;43m.\u001b[39;49m\u001b[43mcallback\u001b[49m\u001b[43m,\u001b[49m\n\u001b[1;32m   1720\u001b[0m \u001b[43m                   \u001b[49m\u001b[43mconv_check\u001b[49m\u001b[38;5;241;43m=\u001b[39;49m\u001b[38;5;28;43mself\u001b[39;49m\u001b[38;5;241;43m.\u001b[39;49m\u001b[43mconv_check\u001b[49m\u001b[43m,\u001b[49m\u001b[43m \u001b[49m\u001b[38;5;241;43m*\u001b[39;49m\u001b[38;5;241;43m*\u001b[39;49m\u001b[43mkwargs\u001b[49m\u001b[43m)\u001b[49m\n\u001b[1;32m   1721\u001b[0m \u001b[38;5;28;01melse\u001b[39;00m:\n\u001b[1;32m   1722\u001b[0m     \u001b[38;5;66;03m# Avoid to update SCF orbitals in the non-SCF initialization\u001b[39;00m\n\u001b[1;32m   1723\u001b[0m     \u001b[38;5;66;03m# (issue #495).  But run regular SCF for initial guess if SCF was\u001b[39;00m\n\u001b[1;32m   1724\u001b[0m     \u001b[38;5;66;03m# not initialized.\u001b[39;00m\n\u001b[1;32m   1725\u001b[0m     \u001b[38;5;28mself\u001b[39m\u001b[38;5;241m.\u001b[39me_tot \u001b[38;5;241m=\u001b[39m kernel(\u001b[38;5;28mself\u001b[39m, \u001b[38;5;28mself\u001b[39m\u001b[38;5;241m.\u001b[39mconv_tol, \u001b[38;5;28mself\u001b[39m\u001b[38;5;241m.\u001b[39mconv_tol_grad,\n\u001b[1;32m   1726\u001b[0m                         dm0\u001b[38;5;241m=\u001b[39mdm0, callback\u001b[38;5;241m=\u001b[39m\u001b[38;5;28mself\u001b[39m\u001b[38;5;241m.\u001b[39mcallback,\n\u001b[1;32m   1727\u001b[0m                         conv_check\u001b[38;5;241m=\u001b[39m\u001b[38;5;28mself\u001b[39m\u001b[38;5;241m.\u001b[39mconv_check, \u001b[38;5;241m*\u001b[39m\u001b[38;5;241m*\u001b[39mkwargs)[\u001b[38;5;241m1\u001b[39m]\n",
      "File \u001b[0;32m~/.python/current/lib/python3.10/site-packages/pyscf/scf/hf.py:124\u001b[0m, in \u001b[0;36mkernel\u001b[0;34m(mf, conv_tol, conv_tol_grad, dump_chk, dm0, callback, conv_check, **kwargs)\u001b[0m\n\u001b[1;32m    121\u001b[0m     dm \u001b[38;5;241m=\u001b[39m dm0\n\u001b[1;32m    123\u001b[0m h1e \u001b[38;5;241m=\u001b[39m mf\u001b[38;5;241m.\u001b[39mget_hcore(mol)\n\u001b[0;32m--> 124\u001b[0m vhf \u001b[38;5;241m=\u001b[39m \u001b[43mmf\u001b[49m\u001b[38;5;241;43m.\u001b[39;49m\u001b[43mget_veff\u001b[49m\u001b[43m(\u001b[49m\u001b[43mmol\u001b[49m\u001b[43m,\u001b[49m\u001b[43m \u001b[49m\u001b[43mdm\u001b[49m\u001b[43m)\u001b[49m\n\u001b[1;32m    125\u001b[0m e_tot \u001b[38;5;241m=\u001b[39m mf\u001b[38;5;241m.\u001b[39menergy_tot(dm, h1e, vhf)\n\u001b[1;32m    126\u001b[0m logger\u001b[38;5;241m.\u001b[39minfo(mf, \u001b[38;5;124m'\u001b[39m\u001b[38;5;124minit E= \u001b[39m\u001b[38;5;132;01m%.15g\u001b[39;00m\u001b[38;5;124m'\u001b[39m, e_tot)\n",
      "File \u001b[0;32m~/.python/current/lib/python3.10/site-packages/pyscf/scf/hf.py:2057\u001b[0m, in \u001b[0;36mRHF.get_veff\u001b[0;34m(self, mol, dm, dm_last, vhf_last, hermi)\u001b[0m\n\u001b[1;32m   2055\u001b[0m \u001b[38;5;28;01melse\u001b[39;00m:\n\u001b[1;32m   2056\u001b[0m     ddm \u001b[38;5;241m=\u001b[39m numpy\u001b[38;5;241m.\u001b[39masarray(dm) \u001b[38;5;241m-\u001b[39m numpy\u001b[38;5;241m.\u001b[39masarray(dm_last)\n\u001b[0;32m-> 2057\u001b[0m     vj, vk \u001b[38;5;241m=\u001b[39m \u001b[38;5;28;43mself\u001b[39;49m\u001b[38;5;241;43m.\u001b[39;49m\u001b[43mget_jk\u001b[49m\u001b[43m(\u001b[49m\u001b[43mmol\u001b[49m\u001b[43m,\u001b[49m\u001b[43m \u001b[49m\u001b[43mddm\u001b[49m\u001b[43m,\u001b[49m\u001b[43m \u001b[49m\u001b[43mhermi\u001b[49m\u001b[43m)\u001b[49m\n\u001b[1;32m   2058\u001b[0m     vhf \u001b[38;5;241m=\u001b[39m vj \u001b[38;5;241m-\u001b[39m vk \u001b[38;5;241m*\u001b[39m \u001b[38;5;241m.5\u001b[39m\n\u001b[1;32m   2059\u001b[0m     vhf \u001b[38;5;241m+\u001b[39m\u001b[38;5;241m=\u001b[39m numpy\u001b[38;5;241m.\u001b[39masarray(vhf_last)\n",
      "File \u001b[0;32m~/.python/current/lib/python3.10/site-packages/pyscf/scf/hf.py:2042\u001b[0m, in \u001b[0;36mRHF.get_jk\u001b[0;34m(self, mol, dm, hermi, with_j, with_k, omega)\u001b[0m\n\u001b[1;32m   2039\u001b[0m \u001b[38;5;28;01mif\u001b[39;00m (\u001b[38;5;129;01mnot\u001b[39;00m omega \u001b[38;5;129;01mand\u001b[39;00m\n\u001b[1;32m   2040\u001b[0m     (\u001b[38;5;28mself\u001b[39m\u001b[38;5;241m.\u001b[39m_eri \u001b[38;5;129;01mis\u001b[39;00m \u001b[38;5;129;01mnot\u001b[39;00m \u001b[38;5;28;01mNone\u001b[39;00m \u001b[38;5;129;01mor\u001b[39;00m mol\u001b[38;5;241m.\u001b[39mincore_anyway \u001b[38;5;129;01mor\u001b[39;00m \u001b[38;5;28mself\u001b[39m\u001b[38;5;241m.\u001b[39m_is_mem_enough())):\n\u001b[1;32m   2041\u001b[0m     \u001b[38;5;28;01mif\u001b[39;00m \u001b[38;5;28mself\u001b[39m\u001b[38;5;241m.\u001b[39m_eri \u001b[38;5;129;01mis\u001b[39;00m \u001b[38;5;28;01mNone\u001b[39;00m:\n\u001b[0;32m-> 2042\u001b[0m         \u001b[38;5;28mself\u001b[39m\u001b[38;5;241m.\u001b[39m_eri \u001b[38;5;241m=\u001b[39m \u001b[43mmol\u001b[49m\u001b[38;5;241;43m.\u001b[39;49m\u001b[43mintor\u001b[49m\u001b[43m(\u001b[49m\u001b[38;5;124;43m'\u001b[39;49m\u001b[38;5;124;43mint2e\u001b[39;49m\u001b[38;5;124;43m'\u001b[39;49m\u001b[43m,\u001b[49m\u001b[43m \u001b[49m\u001b[43maosym\u001b[49m\u001b[38;5;241;43m=\u001b[39;49m\u001b[38;5;124;43m'\u001b[39;49m\u001b[38;5;124;43ms8\u001b[39;49m\u001b[38;5;124;43m'\u001b[39;49m\u001b[43m)\u001b[49m\n\u001b[1;32m   2043\u001b[0m     vj, vk \u001b[38;5;241m=\u001b[39m dot_eri_dm(\u001b[38;5;28mself\u001b[39m\u001b[38;5;241m.\u001b[39m_eri, dm, hermi, with_j, with_k)\n\u001b[1;32m   2044\u001b[0m \u001b[38;5;28;01melse\u001b[39;00m:\n",
      "File \u001b[0;32m~/.python/current/lib/python3.10/site-packages/pyscf/gto/mole.py:3475\u001b[0m, in \u001b[0;36mMoleBase.intor\u001b[0;34m(self, intor, comp, hermi, aosym, out, shls_slice, grids)\u001b[0m\n\u001b[1;32m   3473\u001b[0m     env[NGRIDS] \u001b[38;5;241m=\u001b[39m grids\u001b[38;5;241m.\u001b[39mshape[\u001b[38;5;241m0\u001b[39m]\n\u001b[1;32m   3474\u001b[0m     env[PTR_GRIDS] \u001b[38;5;241m=\u001b[39m env\u001b[38;5;241m.\u001b[39msize \u001b[38;5;241m-\u001b[39m grids\u001b[38;5;241m.\u001b[39msize\n\u001b[0;32m-> 3475\u001b[0m \u001b[38;5;28;01mreturn\u001b[39;00m \u001b[43mmoleintor\u001b[49m\u001b[38;5;241;43m.\u001b[39;49m\u001b[43mgetints\u001b[49m\u001b[43m(\u001b[49m\u001b[43mintor\u001b[49m\u001b[43m,\u001b[49m\u001b[43m \u001b[49m\u001b[38;5;28;43mself\u001b[39;49m\u001b[38;5;241;43m.\u001b[39;49m\u001b[43m_atm\u001b[49m\u001b[43m,\u001b[49m\u001b[43m \u001b[49m\u001b[43mbas\u001b[49m\u001b[43m,\u001b[49m\u001b[43m \u001b[49m\u001b[43menv\u001b[49m\u001b[43m,\u001b[49m\n\u001b[1;32m   3476\u001b[0m \u001b[43m                         \u001b[49m\u001b[43mshls_slice\u001b[49m\u001b[43m,\u001b[49m\u001b[43m \u001b[49m\u001b[43mcomp\u001b[49m\u001b[43m,\u001b[49m\u001b[43m \u001b[49m\u001b[43mhermi\u001b[49m\u001b[43m,\u001b[49m\u001b[43m \u001b[49m\u001b[43maosym\u001b[49m\u001b[43m,\u001b[49m\u001b[43m \u001b[49m\u001b[43mout\u001b[49m\u001b[38;5;241;43m=\u001b[39;49m\u001b[43mout\u001b[49m\u001b[43m)\u001b[49m\n",
      "File \u001b[0;32m~/.python/current/lib/python3.10/site-packages/pyscf/gto/moleintor.py:240\u001b[0m, in \u001b[0;36mgetints\u001b[0;34m(intor_name, atm, bas, env, shls_slice, comp, hermi, aosym, ao_loc, cintopt, out)\u001b[0m\n\u001b[1;32m    237\u001b[0m     \u001b[38;5;28;01mreturn\u001b[39;00m getints2c(intor_name, atm, bas, env, shls_slice, comp,\n\u001b[1;32m    238\u001b[0m                      hermi, ao_loc, cintopt, out)\n\u001b[1;32m    239\u001b[0m \u001b[38;5;28;01melif\u001b[39;00m intor_name\u001b[38;5;241m.\u001b[39mstartswith(\u001b[38;5;124m'\u001b[39m\u001b[38;5;124mint2e\u001b[39m\u001b[38;5;124m'\u001b[39m) \u001b[38;5;129;01mor\u001b[39;00m intor_name\u001b[38;5;241m.\u001b[39mstartswith(\u001b[38;5;124m'\u001b[39m\u001b[38;5;124mint4c1e\u001b[39m\u001b[38;5;124m'\u001b[39m):\n\u001b[0;32m--> 240\u001b[0m     \u001b[38;5;28;01mreturn\u001b[39;00m \u001b[43mgetints4c\u001b[49m\u001b[43m(\u001b[49m\u001b[43mintor_name\u001b[49m\u001b[43m,\u001b[49m\u001b[43m \u001b[49m\u001b[43matm\u001b[49m\u001b[43m,\u001b[49m\u001b[43m \u001b[49m\u001b[43mbas\u001b[49m\u001b[43m,\u001b[49m\u001b[43m \u001b[49m\u001b[43menv\u001b[49m\u001b[43m,\u001b[49m\u001b[43m \u001b[49m\u001b[43mshls_slice\u001b[49m\u001b[43m,\u001b[49m\u001b[43m \u001b[49m\u001b[43mcomp\u001b[49m\u001b[43m,\u001b[49m\n\u001b[1;32m    241\u001b[0m \u001b[43m                     \u001b[49m\u001b[43maosym\u001b[49m\u001b[43m,\u001b[49m\u001b[43m \u001b[49m\u001b[43mao_loc\u001b[49m\u001b[43m,\u001b[49m\u001b[43m \u001b[49m\u001b[43mcintopt\u001b[49m\u001b[43m,\u001b[49m\u001b[43m \u001b[49m\u001b[43mout\u001b[49m\u001b[43m)\u001b[49m\n\u001b[1;32m    242\u001b[0m \u001b[38;5;28;01melif\u001b[39;00m intor_name\u001b[38;5;241m.\u001b[39mstartswith(\u001b[38;5;124m'\u001b[39m\u001b[38;5;124mint3c\u001b[39m\u001b[38;5;124m'\u001b[39m):\n\u001b[1;32m    243\u001b[0m     \u001b[38;5;28;01mreturn\u001b[39;00m getints3c(intor_name, atm, bas, env, shls_slice, comp,\n\u001b[1;32m    244\u001b[0m                      aosym, ao_loc, cintopt, out)\n",
      "File \u001b[0;32m~/.python/current/lib/python3.10/site-packages/pyscf/gto/moleintor.py:605\u001b[0m, in \u001b[0;36mgetints4c\u001b[0;34m(intor_name, atm, bas, env, shls_slice, comp, aosym, ao_loc, cintopt, out)\u001b[0m\n\u001b[1;32m    603\u001b[0m         cintopt \u001b[38;5;241m=\u001b[39m make_cintopt(atm, bas, env, intor_name)\n\u001b[1;32m    604\u001b[0m     drv \u001b[38;5;241m=\u001b[39m _vhf\u001b[38;5;241m.\u001b[39mlibcvhf\u001b[38;5;241m.\u001b[39mGTO2e_cart_or_sph\n\u001b[0;32m--> 605\u001b[0m     \u001b[43mdrv\u001b[49m\u001b[43m(\u001b[49m\u001b[38;5;28;43mgetattr\u001b[39;49m\u001b[43m(\u001b[49m\u001b[43mlibcgto\u001b[49m\u001b[43m,\u001b[49m\u001b[43m \u001b[49m\u001b[43mintor_name\u001b[49m\u001b[43m)\u001b[49m\u001b[43m,\u001b[49m\u001b[43m \u001b[49m\u001b[43mcintopt\u001b[49m\u001b[43m,\u001b[49m\n\u001b[1;32m    606\u001b[0m \u001b[43m        \u001b[49m\u001b[43mout\u001b[49m\u001b[38;5;241;43m.\u001b[39;49m\u001b[43mctypes\u001b[49m\u001b[38;5;241;43m.\u001b[39;49m\u001b[43mdata_as\u001b[49m\u001b[43m(\u001b[49m\u001b[43mctypes\u001b[49m\u001b[38;5;241;43m.\u001b[39;49m\u001b[43mc_void_p\u001b[49m\u001b[43m)\u001b[49m\u001b[43m,\u001b[49m\n\u001b[1;32m    607\u001b[0m \u001b[43m        \u001b[49m\u001b[43mao_loc\u001b[49m\u001b[38;5;241;43m.\u001b[39;49m\u001b[43mctypes\u001b[49m\u001b[38;5;241;43m.\u001b[39;49m\u001b[43mdata_as\u001b[49m\u001b[43m(\u001b[49m\u001b[43mctypes\u001b[49m\u001b[38;5;241;43m.\u001b[39;49m\u001b[43mc_void_p\u001b[49m\u001b[43m)\u001b[49m\u001b[43m,\u001b[49m\n\u001b[1;32m    608\u001b[0m \u001b[43m        \u001b[49m\u001b[43mc_atm\u001b[49m\u001b[43m,\u001b[49m\u001b[43m \u001b[49m\u001b[43mctypes\u001b[49m\u001b[38;5;241;43m.\u001b[39;49m\u001b[43mc_int\u001b[49m\u001b[43m(\u001b[49m\u001b[43mnatm\u001b[49m\u001b[43m)\u001b[49m\u001b[43m,\u001b[49m\u001b[43m \u001b[49m\u001b[43mc_bas\u001b[49m\u001b[43m,\u001b[49m\u001b[43m \u001b[49m\u001b[43mctypes\u001b[49m\u001b[38;5;241;43m.\u001b[39;49m\u001b[43mc_int\u001b[49m\u001b[43m(\u001b[49m\u001b[43mnbas\u001b[49m\u001b[43m)\u001b[49m\u001b[43m,\u001b[49m\u001b[43m \u001b[49m\u001b[43mc_env\u001b[49m\u001b[43m)\u001b[49m\n\u001b[1;32m    609\u001b[0m     \u001b[38;5;28;01mreturn\u001b[39;00m out\n\u001b[1;32m    611\u001b[0m \u001b[38;5;28;01melse\u001b[39;00m:\n",
      "\u001b[0;31mKeyboardInterrupt\u001b[0m: "
     ]
    }
   ],
   "source": [
    "from qiskit_nature.second_q.drivers import PySCFDriver\n",
    "driver = PySCFDriver(\n",
    "    atom=\"; \".join([i.replace('\\n', ' ') for i in xyz]),\n",
    "    unit = DistanceUnit.ANGSTROM, \n",
    ")\n",
    "problem = driver.run()"
   ]
  },
  {
   "cell_type": "code",
   "execution_count": 4,
   "metadata": {},
   "outputs": [
    {
     "data": {
      "text/plain": [
       "'C         -1.99200        1.15000        0.00000 ; C         -1.99200       -0.39100        0.00000 ; C         -0.66100       -1.15700        0.00000 ; C          0.66200       -0.39100        0.00000 ; C          0.66200        1.15000        0.00000 ; C         -0.66100        1.92400        0.00000 ; C         -0.66100       -2.69800        0.00000 ; C         -1.99600       -3.46500        0.00000 ; C          0.66700       -3.46500        0.00000 ; C         -0.66100        3.46500        0.00000 ; O          1.99600       -1.16700        0.00000'"
      ]
     },
     "execution_count": 4,
     "metadata": {},
     "output_type": "execute_result"
    }
   ],
   "source": [
    "\"; \".join([i.replace('\\n', ' ') for i in xyz])"
   ]
  },
  {
   "cell_type": "code",
   "execution_count": 23,
   "metadata": {},
   "outputs": [
    {
     "data": {
      "text/plain": [
       "<qiskit_nature.second_q.hamiltonians.electronic_energy.ElectronicEnergy at 0x7f482b95a6e0>"
      ]
     },
     "execution_count": 23,
     "metadata": {},
     "output_type": "execute_result"
    }
   ],
   "source": [
    "problem.hamiltonian.electronic_integrals.register_length\n",
    "problem.hamiltonian"
   ]
  },
  {
   "cell_type": "code",
   "execution_count": 6,
   "metadata": {},
   "outputs": [
    {
     "ename": "KeyboardInterrupt",
     "evalue": "",
     "output_type": "error",
     "traceback": [
      "\u001b[0;31m---------------------------------------------------------------------------\u001b[0m",
      "\u001b[0;31mKeyboardInterrupt\u001b[0m                         Traceback (most recent call last)",
      "Cell \u001b[0;32mIn[6], line 1\u001b[0m\n\u001b[0;32m----> 1\u001b[0m second_qs \u001b[38;5;241m=\u001b[39m \u001b[43mproblem\u001b[49m\u001b[38;5;241;43m.\u001b[39;49m\u001b[43msecond_q_ops\u001b[49m\u001b[43m(\u001b[49m\u001b[43m)\u001b[49m\n",
      "File \u001b[0;32m~/.python/current/lib/python3.10/site-packages/qiskit_nature/second_q/problems/base_problem.py:68\u001b[0m, in \u001b[0;36mBaseProblem.second_q_ops\u001b[0;34m(self)\u001b[0m\n\u001b[1;32m     61\u001b[0m \u001b[38;5;28;01mdef\u001b[39;00m \u001b[38;5;21msecond_q_ops\u001b[39m(\u001b[38;5;28mself\u001b[39m) \u001b[38;5;241m-\u001b[39m\u001b[38;5;241m>\u001b[39m \u001b[38;5;28mtuple\u001b[39m[SparseLabelOp, \u001b[38;5;28mdict\u001b[39m[\u001b[38;5;28mstr\u001b[39m, SparseLabelOp]]:\n\u001b[1;32m     62\u001b[0m \u001b[38;5;250m    \u001b[39m\u001b[38;5;124;03m\"\"\"Returns the second quantized operators associated with this problem.\u001b[39;00m\n\u001b[1;32m     63\u001b[0m \n\u001b[1;32m     64\u001b[0m \u001b[38;5;124;03m    Returns:\u001b[39;00m\n\u001b[1;32m     65\u001b[0m \u001b[38;5;124;03m        A tuple, with the first object being the main operator and the second being a dictionary\u001b[39;00m\n\u001b[1;32m     66\u001b[0m \u001b[38;5;124;03m        of auxiliary operators.\u001b[39;00m\n\u001b[1;32m     67\u001b[0m \u001b[38;5;124;03m    \"\"\"\u001b[39;00m\n\u001b[0;32m---> 68\u001b[0m     main_op \u001b[38;5;241m=\u001b[39m \u001b[38;5;28;43mself\u001b[39;49m\u001b[38;5;241;43m.\u001b[39;49m\u001b[43mhamiltonian\u001b[49m\u001b[38;5;241;43m.\u001b[39;49m\u001b[43msecond_q_op\u001b[49m\u001b[43m(\u001b[49m\u001b[43m)\u001b[49m\n\u001b[1;32m     70\u001b[0m     aux_ops: \u001b[38;5;28mdict\u001b[39m[\u001b[38;5;28mstr\u001b[39m, SparseLabelOp] \u001b[38;5;241m=\u001b[39m {}\n\u001b[1;32m     71\u001b[0m     \u001b[38;5;28;01mfor\u001b[39;00m prop \u001b[38;5;129;01min\u001b[39;00m \u001b[38;5;28mself\u001b[39m\u001b[38;5;241m.\u001b[39mproperties:\n",
      "File \u001b[0;32m~/.python/current/lib/python3.10/site-packages/qiskit_nature/second_q/hamiltonians/electronic_energy.py:192\u001b[0m, in \u001b[0;36mElectronicEnergy.second_q_op\u001b[0;34m(self)\u001b[0m\n\u001b[1;32m    186\u001b[0m \u001b[38;5;28;01mdef\u001b[39;00m \u001b[38;5;21msecond_q_op\u001b[39m(\u001b[38;5;28mself\u001b[39m) \u001b[38;5;241m-\u001b[39m\u001b[38;5;241m>\u001b[39m FermionicOp:\n\u001b[1;32m    187\u001b[0m \u001b[38;5;250m    \u001b[39m\u001b[38;5;124;03m\"\"\"Returns the second quantized operator constructed from the contained electronic integrals.\u001b[39;00m\n\u001b[1;32m    188\u001b[0m \n\u001b[1;32m    189\u001b[0m \u001b[38;5;124;03m    Returns:\u001b[39;00m\n\u001b[1;32m    190\u001b[0m \u001b[38;5;124;03m        A ``FermionicOp`` instance.\u001b[39;00m\n\u001b[1;32m    191\u001b[0m \u001b[38;5;124;03m    \"\"\"\u001b[39;00m\n\u001b[0;32m--> 192\u001b[0m     \u001b[38;5;28;01mreturn\u001b[39;00m \u001b[43mFermionicOp\u001b[49m\u001b[38;5;241;43m.\u001b[39;49m\u001b[43mfrom_polynomial_tensor\u001b[49m\u001b[43m(\u001b[49m\u001b[38;5;28;43mself\u001b[39;49m\u001b[38;5;241;43m.\u001b[39;49m\u001b[43melectronic_integrals\u001b[49m\u001b[38;5;241;43m.\u001b[39;49m\u001b[43msecond_q_coeffs\u001b[49m\u001b[43m(\u001b[49m\u001b[43m)\u001b[49m\u001b[43m)\u001b[49m\n",
      "File \u001b[0;32m~/.python/current/lib/python3.10/site-packages/qiskit_nature/second_q/operators/fermionic_op.py:256\u001b[0m, in \u001b[0;36mFermionicOp.from_polynomial_tensor\u001b[0;34m(cls, tensor)\u001b[0m\n\u001b[1;32m    253\u001b[0m     label_template \u001b[38;5;241m=\u001b[39m mat\u001b[38;5;241m.\u001b[39mlabel_template\u001b[38;5;241m.\u001b[39mformat(\u001b[38;5;241m*\u001b[39mkey)\n\u001b[1;32m    255\u001b[0m     \u001b[38;5;28;01mfor\u001b[39;00m value, index \u001b[38;5;129;01min\u001b[39;00m mat\u001b[38;5;241m.\u001b[39mcoord_iter():\n\u001b[0;32m--> 256\u001b[0m         data[label_template\u001b[38;5;241m.\u001b[39mformat(\u001b[38;5;241m*\u001b[39mindex)] \u001b[38;5;241m=\u001b[39m value\n\u001b[1;32m    258\u001b[0m \u001b[38;5;28;01mreturn\u001b[39;00m \u001b[38;5;28mcls\u001b[39m(data, copy\u001b[38;5;241m=\u001b[39m\u001b[38;5;28;01mFalse\u001b[39;00m, num_spin_orbitals\u001b[38;5;241m=\u001b[39mtensor\u001b[38;5;241m.\u001b[39mregister_length)\u001b[38;5;241m.\u001b[39mchop()\n",
      "\u001b[0;31mKeyboardInterrupt\u001b[0m: "
     ]
    }
   ],
   "source": [
    "second_qs = problem.second_q_ops()"
   ]
  },
  {
   "cell_type": "code",
   "execution_count": null,
   "metadata": {},
   "outputs": [],
   "source": []
  },
  {
   "cell_type": "code",
   "execution_count": null,
   "metadata": {},
   "outputs": [],
   "source": [
    "https://github.com/kjwcoo/Qiskit_Hackathon_Korea_2022_Nature/blob/main/9037647705611511190qiskit_nature_challenge.ipynb\n",
    "https://github.com/qiskit-community/qiskit-application-modules-demo-sessions/blob/main/qiskit-nature/Qiskit_Nature_YouTube_Tutorial.ipynb"
   ]
  },
  {
   "cell_type": "code",
   "execution_count": null,
   "metadata": {},
   "outputs": [],
   "source": [
    "Insights"
   ]
  },
  {
   "cell_type": "markdown",
   "metadata": {},
   "source": [
    "# Insights\n",
    "Electronic Structure (Kinetic, Potential, Coulomb + Exchange)\n",
    "Born Oppenheimer -> Separate e motion from nuclei\n",
    "Non-rel TI Schro Eq -> Use Variational Principle\n",
    "Second Quantization (Map to Spin / Qubits)\n",
    "Hamiltonian -> Creation + Annihilation (Excite + De-excite) -> Occupation Number Vector\n",
    "\n",
    "Problem -> Solver -> Result\n",
    "Problem (Driver -> Properties tfed by Transformers ) -> Ferm Op\n",
    "\n",
    "Op -> Solver (Converter -> Operator + Eigensolver) -> Result"
   ]
  },
  {
   "cell_type": "code",
   "execution_count": 39,
   "metadata": {},
   "outputs": [],
   "source": [
    "from qiskit_nature.second_q.transformers import ActiveSpaceTransformer\n",
    "transformer = ActiveSpaceTransformer(\n",
    "    num_electrons = 4,\n",
    "    num_spatial_orbitals = 4,\n",
    ")\n",
    "#transformer.prepare_active_space(problem.num_particles, problem.num_spatial_orbitals)\n",
    "#reduced_ham = transformer.transform_hamiltonian(problem.hamiltonian)\n",
    "red_problem  = transformer.transform(problem)\n",
    "#red_problem = ElectronicStructureProblem(driver, [transformer])"
   ]
  },
  {
   "cell_type": "markdown",
   "metadata": {},
   "source": []
  },
  {
   "cell_type": "code",
   "execution_count": 40,
   "metadata": {},
   "outputs": [
    {
     "name": "stdout",
     "output_type": "stream",
     "text": [
      "(2, 2)\n"
     ]
    }
   ],
   "source": [
    "#new_problem = ElectronicStructureProblem(reduced_ham)\n",
    "print(red_problem.num_particles)"
   ]
  },
  {
   "cell_type": "code",
   "execution_count": 41,
   "metadata": {},
   "outputs": [],
   "source": [
    "#new_problem = ElectronicStructureProblem(reduced_ham)\n",
    "#print(new_problem.second_q_ops())\n",
    "reduced_ham = red_problem.second_q_ops()[0]\n",
    "from qiskit_nature.second_q.mappers import JordanWignerMapper\n",
    "mapper = JordanWignerMapper()\n",
    "qubit_ham = mapper.map(reduced_ham)"
   ]
  },
  {
   "cell_type": "code",
   "execution_count": 42,
   "metadata": {},
   "outputs": [
    {
     "name": "stdout",
     "output_type": "stream",
     "text": [
      "SparsePauliOp(['IIIIIIII', 'IIIIIIIZ', 'IIIIYZZY', 'IIIIXZZX', 'IIIIIIZI', 'IIIIIYYI', 'IIIIIXXI', 'IIIIIZII', 'IIIIZIII', 'IIIZIIII', 'YZZYIIII', 'XZZXIIII', 'IIZIIIII', 'IYYIIIII', 'IXXIIIII', 'IZIIIIII', 'ZIIIIIII', 'IIIIIIZZ', 'IIIIIYYZ', 'IIIIIXXZ', 'IIIIIZIZ', 'IIIIZIIZ', 'IIIZIIIZ', 'YZZYIIIZ', 'XZZXIIIZ', 'IIZIIIIZ', 'IYYIIIIZ', 'IXXIIIIZ', 'IZIIIIIZ', 'ZIIIIIIZ', 'IIIIYZIY', 'IIIIXZIX', 'IIIIYYYY', 'IIIIXXYY', 'IIIIYXXY', 'IIIIXYYX', 'IIIIYYXX', 'IIIIXXXX', 'IIYYIIYY', 'IIXXIIYY', 'IIYYIIXX', 'IIXXIIXX', 'IYZYIIYY', 'IXZXIIYY', 'IYZYIIXX', 'IXZXIIXX', 'YZYIIIYY', 'XZXIIIYY', 'YZYIIIXX', 'XZXIIIXX', 'YYIIIIYY', 'XXIIIIYY', 'YYIIIIXX', 'XXIIIIXX', 'IIIIYIZY', 'IIIIXIZX', 'IIYYIYZY', 'IIXXIYZY', 'IIYYIXZX', 'IIXXIXZX', 'IYZYIYZY', 'IXZXIYZY', 'IYZYIXZX', 'IXZXIXZX', 'YZYIIYZY', 'XZXIIYZY', 'YZYIIXZX', 'XZXIIXZX', 'YYIIIYZY', 'XXIIIYZY', 'YYIIIXZX', 'XXIIIXZX', 'IIIZYZZY', 'IIIZXZZX', 'YZZYYZZY', 'XZZXYZZY', 'YZZYXZZX', 'XZZXXZZX', 'IIZIYZZY', 'IIZIXZZX', 'IYYIYZZY', 'IXXIYZZY', 'IYYIXZZX', 'IXXIXZZX', 'IZIIYZZY', 'IZIIXZZX', 'ZIIIYZZY', 'ZIIIXZZX', 'IIIIIZZI', 'IIIIZIZI', 'IIIZIIZI', 'YZZYIIZI', 'XZZXIIZI', 'IIZIIIZI', 'IYYIIIZI', 'IXXIIIZI', 'IZIIIIZI', 'ZIIIIIZI', 'IIIIZYYI', 'IIIIZXXI', 'IIIZIYYI', 'IIIZIXXI', 'YZZYIYYI', 'XZZXIYYI', 'YZZYIXXI', 'XZZXIXXI', 'IIZIIYYI', 'IIZIIXXI', 'IYYIIYYI', 'IXXIIYYI', 'IYYIIXXI', 'IXXIIXXI', 'IZIIIYYI', 'IZIIIXXI', 'ZIIIIYYI', 'ZIIIIXXI', 'IIYYYZYI', 'IIXXYZYI', 'IIYYXZXI', 'IIXXXZXI', 'IYZYYZYI', 'IXZXYZYI', 'IYZYXZXI', 'IXZXXZXI', 'YZYIYZYI', 'XZXIYZYI', 'YZYIXZXI', 'XZXIXZXI', 'YYIIYZYI', 'XXIIYZYI', 'YYIIXZXI', 'XXIIXZXI', 'IIIIZZII', 'IIIZIZII', 'YZZYIZII', 'XZZXIZII', 'IIZIIZII', 'IYYIIZII', 'IXXIIZII', 'IZIIIZII', 'ZIIIIZII', 'IIYYYYII', 'IIXXYYII', 'IIYYXXII', 'IIXXXXII', 'IYZYYYII', 'IXZXYYII', 'IYZYXXII', 'IXZXXXII', 'YZYIYYII', 'XZXIYYII', 'YZYIXXII', 'XZXIXXII', 'YYIIYYII', 'XXIIYYII', 'YYIIXXII', 'XXIIXXII', 'IIIZZIII', 'YZZYZIII', 'XZZXZIII', 'IIZIZIII', 'IYYIZIII', 'IXXIZIII', 'IZIIZIII', 'ZIIIZIII', 'IIZZIIII', 'IYYZIIII', 'IXXZIIII', 'IZIZIIII', 'ZIIZIIII', 'YZIYIIII', 'XZIXIIII', 'YYYYIIII', 'XXYYIIII', 'YXXYIIII', 'XYYXIIII', 'YYXXIIII', 'XXXXIIII', 'YIZYIIII', 'XIZXIIII', 'IZZIIIII', 'ZIZIIIII', 'ZYYIIIII', 'ZXXIIIII', 'ZZIIIIII'],\n",
      "              coeffs=[-1.57410357e+00+0.j,  1.45987203e-01+0.j,  4.98817538e-02+0.j,\n",
      "  4.98817538e-02+0.j,  1.19036680e-01+0.j, -1.25091651e-03+0.j,\n",
      " -1.25091651e-03+0.j, -1.49479633e-01+0.j, -1.34731831e-01+0.j,\n",
      "  1.45987203e-01+0.j,  4.98817538e-02+0.j,  4.98817538e-02+0.j,\n",
      "  1.19036680e-01+0.j, -1.25091651e-03+0.j, -1.25091651e-03+0.j,\n",
      " -1.49479633e-01+0.j, -1.34731831e-01+0.j,  6.23952412e-02+0.j,\n",
      " -1.34957498e-03+0.j, -1.34957498e-03+0.j,  3.99090307e-02+0.j,\n",
      "  4.06309177e-02+0.j,  8.40545187e-02+0.j,  7.62516524e-03+0.j,\n",
      "  7.62516524e-03+0.j,  6.40093785e-02+0.j, -1.44292989e-03+0.j,\n",
      " -1.44292989e-03+0.j,  4.01749855e-02+0.j,  4.84909351e-02+0.j,\n",
      "  5.69206233e-03+0.j,  5.69206233e-03+0.j, -7.06084959e-04+0.j,\n",
      "  2.49503923e-05+0.j, -7.31035351e-04+0.j, -7.31035351e-04+0.j,\n",
      "  2.49503923e-05+0.j, -7.06084959e-04+0.j,  1.61413729e-03+0.j,\n",
      "  1.61413729e-03+0.j,  1.61413729e-03+0.j,  1.61413729e-03+0.j,\n",
      "  9.33549135e-05+0.j,  9.33549135e-05+0.j,  9.33549135e-05+0.j,\n",
      "  9.33549135e-05+0.j, -3.51123933e-04+0.j, -3.51123933e-04+0.j,\n",
      " -3.51123933e-04+0.j, -3.51123933e-04+0.j,  1.37660944e-04+0.j,\n",
      "  1.37660944e-04+0.j,  1.37660944e-04+0.j,  1.37660944e-04+0.j,\n",
      " -1.00687724e-02+0.j, -1.00687724e-02+0.j,  9.33549135e-05+0.j,\n",
      "  9.33549135e-05+0.j,  9.33549135e-05+0.j,  9.33549135e-05+0.j,\n",
      "  2.65954737e-04+0.j,  2.65954737e-04+0.j,  2.65954737e-04+0.j,\n",
      "  2.65954737e-04+0.j,  1.12710551e-04+0.j,  1.12710551e-04+0.j,\n",
      "  1.12710551e-04+0.j,  1.12710551e-04+0.j,  8.27877167e-04+0.j,\n",
      "  8.27877167e-04+0.j,  8.27877167e-04+0.j,  8.27877167e-04+0.j,\n",
      "  7.62516524e-03+0.j,  7.62516524e-03+0.j,  7.86001736e-03+0.j,\n",
      "  7.86001736e-03+0.j,  7.86001736e-03+0.j,  7.86001736e-03+0.j,\n",
      "  6.04318627e-03+0.j,  6.04318627e-03+0.j,  8.43745903e-04+0.j,\n",
      "  8.43745903e-04+0.j,  8.43745903e-04+0.j,  8.43745903e-04+0.j,\n",
      " -1.08966495e-02+0.j, -1.08966495e-02+0.j, -9.55618204e-03+0.j,\n",
      " -9.55618204e-03+0.j,  3.38252600e-02+0.j,  4.28801717e-02+0.j,\n",
      "  6.40093785e-02+0.j,  6.04318627e-03+0.j,  6.04318627e-03+0.j,\n",
      "  7.18239985e-02+0.j, -1.24795002e-03+0.j, -1.24795002e-03+0.j,\n",
      "  3.70252477e-02+0.j,  4.35512973e-02+0.j, -2.00157852e-03+0.j,\n",
      " -2.00157852e-03+0.j, -1.44292989e-03+0.j, -1.44292989e-03+0.j,\n",
      "  8.43745903e-04+0.j,  8.43745903e-04+0.j,  8.43745903e-04+0.j,\n",
      "  8.43745903e-04+0.j, -1.24795002e-03+0.j, -1.24795002e-03+0.j,\n",
      "  3.19998771e-03+0.j,  3.19998771e-03+0.j,  3.19998771e-03+0.j,\n",
      "  3.19998771e-03+0.j,  1.37126064e-03+0.j,  1.37126064e-03+0.j,\n",
      " -2.15905186e-03+0.j, -2.15905186e-03+0.j, -3.51123933e-04+0.j,\n",
      " -3.51123933e-04+0.j, -3.51123933e-04+0.j, -3.51123933e-04+0.j,\n",
      "  1.12710551e-04+0.j,  1.12710551e-04+0.j,  1.12710551e-04+0.j,\n",
      "  1.12710551e-04+0.j,  6.71125570e-04+0.j,  6.71125570e-04+0.j,\n",
      "  6.71125570e-04+0.j,  6.71125570e-04+0.j,  1.57473349e-04+0.j,\n",
      "  1.57473349e-04+0.j,  1.57473349e-04+0.j,  1.57473349e-04+0.j,\n",
      "  8.53818870e-02+0.j,  4.01749855e-02+0.j, -1.08966495e-02+0.j,\n",
      " -1.08966495e-02+0.j,  3.70252477e-02+0.j,  1.37126064e-03+0.j,\n",
      "  1.37126064e-03+0.j,  1.06511601e-01+0.j,  8.92185045e-02+0.j,\n",
      "  1.37660944e-04+0.j,  1.37660944e-04+0.j,  1.37660944e-04+0.j,\n",
      "  1.37660944e-04+0.j,  8.27877167e-04+0.j,  8.27877167e-04+0.j,\n",
      "  8.27877167e-04+0.j,  8.27877167e-04+0.j,  1.57473349e-04+0.j,\n",
      "  1.57473349e-04+0.j,  1.57473349e-04+0.j,  1.57473349e-04+0.j,\n",
      "  3.83661753e-03+0.j,  3.83661753e-03+0.j,  3.83661753e-03+0.j,\n",
      "  3.83661753e-03+0.j,  4.84909351e-02+0.j, -9.55618204e-03+0.j,\n",
      " -9.55618204e-03+0.j,  4.35512973e-02+0.j, -2.15905186e-03+0.j,\n",
      " -2.15905186e-03+0.j,  8.92185045e-02+0.j,  9.51029012e-02+0.j,\n",
      "  6.23952412e-02+0.j, -1.34957498e-03+0.j, -1.34957498e-03+0.j,\n",
      "  3.99090307e-02+0.j,  4.06309177e-02+0.j,  5.69206233e-03+0.j,\n",
      "  5.69206233e-03+0.j, -7.06084959e-04+0.j,  2.49503923e-05+0.j,\n",
      " -7.31035351e-04+0.j, -7.31035351e-04+0.j,  2.49503923e-05+0.j,\n",
      " -7.06084959e-04+0.j, -1.00687724e-02+0.j, -1.00687724e-02+0.j,\n",
      "  3.38252600e-02+0.j,  4.28801717e-02+0.j, -2.00157852e-03+0.j,\n",
      " -2.00157852e-03+0.j,  8.53818870e-02+0.j])\n"
     ]
    }
   ],
   "source": [
    "print(qubit_ham)"
   ]
  },
  {
   "cell_type": "code",
   "execution_count": 37,
   "metadata": {},
   "outputs": [
    {
     "name": "stdout",
     "output_type": "stream",
     "text": [
      "(2, 2)\n"
     ]
    }
   ],
   "source": [
    "print(red_problem.num_particles)"
   ]
  },
  {
   "cell_type": "code",
   "execution_count": 43,
   "metadata": {},
   "outputs": [
    {
     "name": "stdout",
     "output_type": "stream",
     "text": [
      "<qiskit_nature.second_q.problems.electronic_properties_container.ElectronicPropertiesContainer object at 0x7f482bd5d690>\n"
     ]
    }
   ],
   "source": [
    "print(red_problem.properties)\n",
    "from qiskit.algorithms.optimizers import SLSQP\n",
    "from qiskit.primitives import Estimator\n",
    "from qiskit_algorithms import VQE\n",
    "#from qiskit.providers.aer import StatevectorSimulator, QasmSimulator\n",
    "from qiskit_nature.second_q.algorithms.initial_points import HFInitialPoint\n",
    "from qiskit_nature.second_q.circuit.library import HartreeFock, UCCSD\n",
    "\n",
    "ansatz = UCCSD(\n",
    "    red_problem.num_spatial_orbitals,\n",
    "    red_problem.num_particles,\n",
    "    mapper,\n",
    "    initial_state = HartreeFock(\n",
    "        red_problem.num_spatial_orbitals,\n",
    "        red_problem.num_particles,\n",
    "        mapper\n",
    "    )\n",
    ")\n",
    "initial_point = HFInitialPoint()\n",
    "initial_point.ansatz = ansatz\n",
    "initial_point.problem = red_problem\n",
    "estimator = Estimator()\n",
    "solver = VQE(estimator, ansatz, SLSQP())\n",
    "solver.initial_point = initial_point.to_numpy_array()"
   ]
  },
  {
   "cell_type": "code",
   "execution_count": 44,
   "metadata": {},
   "outputs": [],
   "source": [
    "from qiskit_nature.second_q.algorithms import GroundStateEigensolver\n",
    "gr = GroundStateEigensolver(mapper, solver)\n",
    "results = gr.solve(red_problem)"
   ]
  },
  {
   "cell_type": "code",
   "execution_count": 46,
   "metadata": {},
   "outputs": [
    {
     "name": "stdout",
     "output_type": "stream",
     "text": [
      "=== GROUND STATE ENERGY ===\n",
      " \n",
      "* Electronic ground state energy (Hartree): -843.245349110765\n",
      "  - computed part:      -2.368293396647\n",
      "  - ActiveSpaceTransformer extracted energy part: -840.877055714118\n",
      "~ Nuclear repulsion energy (Hartree): 396.62171469262\n",
      "> Total ground state energy (Hartree): -446.623634418145\n",
      " \n",
      "=== MEASURED OBSERVABLES ===\n",
      " \n",
      "  0:  # Particles: 4.000 S: 0.000 S^2: 0.000 M: 0.000\n",
      " \n",
      "=== DIPOLE MOMENTS ===\n",
      " \n",
      "~ Nuclear dipole moment (a.u.): [-45.03217355  -61.61263057  0.0]\n",
      " \n",
      "  0: \n",
      "  * Electronic dipole moment (a.u.): [-43.739707823134  -60.224392762598  0.00000007901]\n",
      "    - computed part:      [-3.941595914411  -1.68418257211  0.000000079009]\n",
      "    - ActiveSpaceTransformer extracted energy part: [-39.798111908724  -58.540210190488  0.000000000001]\n",
      "  > Dipole moment (a.u.): [-1.292465726866  -1.388237807402  -0.00000007901]  Total: 1.896752979442\n",
      "                 (debye): [-3.285119890028  -3.528548214772  -0.000000200823]  Total: 4.821064736739\n",
      " \n"
     ]
    },
    {
     "ename": "TypeError",
     "evalue": "write() argument must be str, not ElectronicStructureResult",
     "output_type": "error",
     "traceback": [
      "\u001b[0;31m---------------------------------------------------------------------------\u001b[0m",
      "\u001b[0;31mTypeError\u001b[0m                                 Traceback (most recent call last)",
      "Cell \u001b[0;32mIn[46], line 3\u001b[0m\n\u001b[1;32m      1\u001b[0m \u001b[38;5;28mprint\u001b[39m(results)\n\u001b[1;32m      2\u001b[0m \u001b[38;5;28;01mwith\u001b[39;00m \u001b[38;5;28mopen\u001b[39m(\u001b[38;5;124m\"\u001b[39m\u001b[38;5;124mMentholResults.txt\u001b[39m\u001b[38;5;124m\"\u001b[39m, \u001b[38;5;124m\"\u001b[39m\u001b[38;5;124mw\u001b[39m\u001b[38;5;124m\"\u001b[39m) \u001b[38;5;28;01mas\u001b[39;00m f:\n\u001b[0;32m----> 3\u001b[0m     \u001b[43mf\u001b[49m\u001b[38;5;241;43m.\u001b[39;49m\u001b[43mwrite\u001b[49m\u001b[43m(\u001b[49m\u001b[43mresults\u001b[49m\u001b[43m)\u001b[49m\n",
      "\u001b[0;31mTypeError\u001b[0m: write() argument must be str, not ElectronicStructureResult"
     ]
    }
   ],
   "source": [
    "print(results)\n",
    "with open(\"MentholResults.txt\", \"w\") as f:\n",
    "    f.write(results)"
   ]
  }
 ],
 "metadata": {
  "kernelspec": {
   "display_name": "Python 3",
   "language": "python",
   "name": "python3"
  },
  "language_info": {
   "codemirror_mode": {
    "name": "ipython",
    "version": 3
   },
   "file_extension": ".py",
   "mimetype": "text/x-python",
   "name": "python",
   "nbconvert_exporter": "python",
   "pygments_lexer": "ipython3",
   "version": "3.10.13"
  }
 },
 "nbformat": 4,
 "nbformat_minor": 2
}
