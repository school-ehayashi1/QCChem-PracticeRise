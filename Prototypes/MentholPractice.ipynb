{
 "cells": [
  {
   "cell_type": "code",
   "execution_count": null,
   "metadata": {},
   "outputs": [],
   "source": [
    "from qiskit_nature.second_q.drivers import ElectronicStructureDriver, PySCFDriver\n",
    "from qiskit_nature.units import DistanceUnit\n",
    "from qiskit_nature.second_q.formats.molecule_info import MoleculeInfo\n",
    "# https://www.webqc.org/molecularformatsconverter.php"
   ]
  },
  {
   "cell_type": "code",
   "execution_count": null,
   "metadata": {},
   "outputs": [],
   "source": [
    "# https://docs.python.org/3/tutorial/inputoutput.html\n",
    "with open(\"DataBank Folder/menthol_tester.xyz\") as f:\n",
    "    s = f.readlines()\n",
    "xyz = s[2:]\n",
    "print(xyz)\n",
    "def process_xyz(file):\n",
    "    total = []\n",
    "    symbols = [i.split()[0] for i in file]\n",
    "    total = [tuple(i.split()[1:]) for i in file]\n",
    "    return symbols, total\n",
    "molecule = MoleculeInfo(\n",
    "    symbols = process_xyz(xyz)[0],\n",
    "    coords = process_xyz(xyz)[1],\n",
    "    multiplicity=1,\n",
    "    charge=0\n",
    ")\n"
   ]
  },
  {
   "cell_type": "code",
   "execution_count": null,
   "metadata": {},
   "outputs": [],
   "source": [
    "from qiskit_nature.second_q.problems import ElectronicStructureProblem\n",
    "driver = PySCFDriver.from_molecule(molecule, basis=\"sto3g\")\n",
    "problem = driver.run()"
   ]
  },
  {
   "cell_type": "code",
   "execution_count": null,
   "metadata": {},
   "outputs": [],
   "source": [
    "from qiskit_nature.second_q.drivers import PySCFDriver\n",
    "driver = PySCFDriver(\n",
    "    atom=\"; \".join([i.replace('\\n', ' ') for i in xyz]),\n",
    "    unit = DistanceUnit.ANGSTROM, \n",
    ")\n",
    "problem = driver.run()"
   ]
  },
  {
   "cell_type": "code",
   "execution_count": null,
   "metadata": {},
   "outputs": [],
   "source": [
    "\"; \".join([i.replace('\\n', ' ') for i in xyz])"
   ]
  },
  {
   "cell_type": "code",
   "execution_count": null,
   "metadata": {},
   "outputs": [],
   "source": [
    "problem.hamiltonian.electronic_integrals.register_length\n",
    "problem.hamiltonian"
   ]
  },
  {
   "cell_type": "code",
   "execution_count": null,
   "metadata": {},
   "outputs": [],
   "source": [
    "second_qs = problem.second_q_ops()"
   ]
  },
  {
   "cell_type": "code",
   "execution_count": null,
   "metadata": {},
   "outputs": [],
   "source": []
  },
  {
   "cell_type": "code",
   "execution_count": null,
   "metadata": {},
   "outputs": [],
   "source": [
    "#https://github.com/kjwcoo/Qiskit_Hackathon_Korea_2022_Nature/blob/main/9037647705611511190qiskit_nature_challenge.ipynb\n",
    "#https://github.com/qiskit-community/qiskit-application-modules-demo-sessions/blob/main/qiskit-nature/Qiskit_Nature_YouTube_Tutorial.ipynb"
   ]
  },
  {
   "cell_type": "code",
   "execution_count": null,
   "metadata": {},
   "outputs": [],
   "source": [
    "Insights"
   ]
  },
  {
   "cell_type": "markdown",
   "metadata": {},
   "source": [
    "# Insights\n",
    "Electronic Structure (Kinetic, Potential, Coulomb + Exchange)\n",
    "Born Oppenheimer -> Separate e motion from nuclei\n",
    "Non-rel TI Schro Eq -> Use Variational Principle\n",
    "Second Quantization (Map to Spin / Qubits)\n",
    "Hamiltonian -> Creation + Annihilation (Excite + De-excite) -> Occupation Number Vector\n",
    "\n",
    "Problem -> Solver -> Result\n",
    "Problem (Driver -> Properties tfed by Transformers ) -> Ferm Op\n",
    "\n",
    "Op -> Solver (Converter -> Operator + Eigensolver) -> Result"
   ]
  },
  {
   "cell_type": "code",
   "execution_count": null,
   "metadata": {},
   "outputs": [],
   "source": [
    "from qiskit_nature.second_q.transformers import ActiveSpaceTransformer\n",
    "transformer = ActiveSpaceTransformer(\n",
    "    num_electrons = 4,\n",
    "    num_spatial_orbitals = 4,\n",
    ")\n",
    "#transformer.prepare_active_space(problem.num_particles, problem.num_spatial_orbitals)\n",
    "#reduced_ham = transformer.transform_hamiltonian(problem.hamiltonian)\n",
    "red_problem  = transformer.transform(problem)\n",
    "#red_problem = ElectronicStructureProblem(driver, [transformer])"
   ]
  },
  {
   "cell_type": "markdown",
   "metadata": {},
   "source": []
  },
  {
   "cell_type": "code",
   "execution_count": null,
   "metadata": {},
   "outputs": [],
   "source": [
    "#new_problem = ElectronicStructureProblem(reduced_ham)\n",
    "print(red_problem.num_particles)"
   ]
  },
  {
   "cell_type": "code",
   "execution_count": null,
   "metadata": {},
   "outputs": [],
   "source": [
    "#new_problem = ElectronicStructureProblem(reduced_ham)\n",
    "#print(new_problem.second_q_ops())\n",
    "reduced_ham = red_problem.second_q_ops()[0]\n",
    "from qiskit_nature.second_q.mappers import JordanWignerMapper\n",
    "mapper = JordanWignerMapper()\n",
    "qubit_ham = mapper.map(reduced_ham)"
   ]
  },
  {
   "cell_type": "code",
   "execution_count": null,
   "metadata": {},
   "outputs": [],
   "source": [
    "print(qubit_ham)"
   ]
  },
  {
   "cell_type": "code",
   "execution_count": null,
   "metadata": {},
   "outputs": [],
   "source": [
    "print(red_problem.num_particles)"
   ]
  },
  {
   "cell_type": "code",
   "execution_count": null,
   "metadata": {},
   "outputs": [],
   "source": [
    "print(red_problem.properties)\n",
    "from qiskit.algorithms.optimizers import SLSQP\n",
    "from qiskit.primitives import Estimator\n",
    "from qiskit_algorithms import VQE\n",
    "#from qiskit.providers.aer import StatevectorSimulator, QasmSimulator\n",
    "from qiskit_nature.second_q.algorithms.initial_points import HFInitialPoint\n",
    "from qiskit_nature.second_q.circuit.library import HartreeFock, UCCSD\n",
    "\n",
    "ansatz = UCCSD(\n",
    "    red_problem.num_spatial_orbitals,\n",
    "    red_problem.num_particles,\n",
    "    mapper,\n",
    "    initial_state = HartreeFock(\n",
    "        red_problem.num_spatial_orbitals,\n",
    "        red_problem.num_particles,\n",
    "        mapper\n",
    "    )\n",
    ")\n",
    "initial_point = HFInitialPoint()\n",
    "initial_point.ansatz = ansatz\n",
    "initial_point.problem = red_problem\n",
    "estimator = Estimator()\n",
    "solver = VQE(estimator, ansatz, SLSQP())\n",
    "solver.initial_point = initial_point.to_numpy_array()"
   ]
  },
  {
   "cell_type": "code",
   "execution_count": null,
   "metadata": {},
   "outputs": [],
   "source": [
    "from qiskit_nature.second_q.algorithms import GroundStateEigensolver\n",
    "gr = GroundStateEigensolver(mapper, solver)\n",
    "results = gr.solve(red_problem)"
   ]
  },
  {
   "cell_type": "code",
   "execution_count": null,
   "metadata": {},
   "outputs": [],
   "source": [
    "print(results)\n",
    "with open(\"MentholResults.txt\", \"w\") as f:\n",
    "    f.write(str(results))"
   ]
  }
 ],
 "metadata": {
  "kernelspec": {
   "display_name": "Python 3",
   "language": "python",
   "name": "python3"
  },
  "language_info": {
   "codemirror_mode": {
    "name": "ipython",
    "version": 3
   },
   "file_extension": ".py",
   "mimetype": "text/x-python",
   "name": "python",
   "nbconvert_exporter": "python",
   "pygments_lexer": "ipython3",
   "version": "3.10.13"
  }
 },
 "nbformat": 4,
 "nbformat_minor": 2
}
