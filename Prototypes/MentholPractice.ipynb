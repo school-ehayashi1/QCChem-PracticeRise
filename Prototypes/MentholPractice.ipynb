{
 "cells": [
  {
   "cell_type": "code",
   "execution_count": 3,
   "metadata": {},
   "outputs": [],
   "source": [
    "from qiskit_nature.second_q.drivers import ElectronicStructureDriver, PySCFDriver\n",
    "from qiskit_nature.units import DistanceUnit\n",
    "# https://www.webqc.org/molecularformatsconverter.php"
   ]
  },
  {
   "cell_type": "code",
   "execution_count": 4,
   "metadata": {},
   "outputs": [],
   "source": [
    "# https://docs.python.org/3/tutorial/inputoutput.html\n",
    "with open(\"DataBank Folder/menthol_tester.xyz\") as f:\n",
    "    s = f.readlines()\n",
    "xyz = s[2:]\n",
    "\n",
    "driver = PySCFDriver(\n",
    "    atom = xyz,\n",
    "    basis='sto-3g',\n",
    ")"
   ]
  },
  {
   "cell_type": "code",
   "execution_count": 5,
   "metadata": {},
   "outputs": [
    {
     "name": "stderr",
     "output_type": "stream",
     "text": [
      "/home/codespace/.python/current/lib/python3.10/site-packages/pyscf/dft/libxc.py:771: UserWarning: Since PySCF-2.3, B3LYP (and B3P86) are changed to the VWN-RPA variant, corresponding to the original definition by Stephens et al. (issue 1480) and the same as the B3LYP functional in Gaussian. To restore the VWN5 definition, you can put the setting \"B3LYP_WITH_VWN5 = True\" in pyscf_conf.py\n",
      "  warnings.warn('Since PySCF-2.3, B3LYP (and B3P86) are changed to the VWN-RPA variant, '\n"
     ]
    }
   ],
   "source": [
    "from qiskit_nature.second_q.problems import ElectronicStructureProblem\n",
    "problem = ElectronicStructureProblem(driver.run().hamiltonian)"
   ]
  },
  {
   "cell_type": "code",
   "execution_count": null,
   "metadata": {},
   "outputs": [
    {
     "name": "stderr",
     "output_type": "stream",
     "text": [
      "/home/codespace/.python/current/lib/python3.10/site-packages/pyscf/dft/libxc.py:771: UserWarning: Since PySCF-2.3, B3LYP (and B3P86) are changed to the VWN-RPA variant, corresponding to the original definition by Stephens et al. (issue 1480) and the same as the B3LYP functional in Gaussian. To restore the VWN5 definition, you can put the setting \"B3LYP_WITH_VWN5 = True\" in pyscf_conf.py\n",
      "  warnings.warn('Since PySCF-2.3, B3LYP (and B3P86) are changed to the VWN-RPA variant, '\n"
     ]
    }
   ],
   "source": [
    "problem = driver.run()"
   ]
  },
  {
   "cell_type": "code",
   "execution_count": 6,
   "metadata": {},
   "outputs": [
    {
     "data": {
      "text/plain": [
       "PolynomialTensor({'+-': array([[-4.18036721e+01, -1.59037377e-04, -1.73633511e-06, ...,\n",
       "         2.21321330e-02, -3.55779731e-02, -1.57362952e-03],\n",
       "       [-1.59037377e-04, -2.79195878e+01, -1.39820062e-03, ...,\n",
       "         1.71837886e-02,  4.49579132e-03,  1.05023748e-02],\n",
       "       [-1.73633511e-06, -1.39820062e-03, -2.72341334e+01, ...,\n",
       "        -1.61048970e-02,  5.26699284e-03, -1.04410745e-02],\n",
       "       ...,\n",
       "       [ 2.21321330e-02,  1.71837886e-02, -1.61048970e-02, ...,\n",
       "        -1.62472252e+01,  2.09828775e-01, -2.68558525e-01],\n",
       "       [-3.55779731e-02,  4.49579132e-03,  5.26699284e-03, ...,\n",
       "         2.09828775e-01, -1.71143935e+01,  8.87131421e-02],\n",
       "       [-1.57362952e-03,  1.05023748e-02, -1.04410745e-02, ...,\n",
       "        -2.68558525e-01,  8.87131421e-02, -1.65288211e+01]]), '++--': array([ 4.74823555e+00,  1.06670050e-04,  9.68526743e-09, ...,\n",
       "        2.76494786e-02, -1.03761972e-03,  3.51018578e-01])})"
      ]
     },
     "execution_count": 6,
     "metadata": {},
     "output_type": "execute_result"
    }
   ],
   "source": [
    "problem.hamiltonian.electronic_integrals.alpha"
   ]
  },
  {
   "cell_type": "code",
   "execution_count": null,
   "metadata": {},
   "outputs": [],
   "source": [
    "https://github.com/kjwcoo/Qiskit_Hackathon_Korea_2022_Nature/blob/main/9037647705611511190qiskit_nature_challenge.ipynb\n",
    "https://github.com/qiskit-community/qiskit-application-modules-demo-sessions/blob/main/qiskit-nature/Qiskit_Nature_YouTube_Tutorial.ipynb"
   ]
  },
  {
   "cell_type": "code",
   "execution_count": 7,
   "metadata": {},
   "outputs": [],
   "source": [
    "hamiltonian = problem.hamiltonian"
   ]
  },
  {
   "cell_type": "code",
   "execution_count": 8,
   "metadata": {},
   "outputs": [
    {
     "ename": "",
     "evalue": "",
     "output_type": "error",
     "traceback": [
      "\u001b[1;31mThe Kernel crashed while executing code in the the current cell or a previous cell. Please review the code in the cell(s) to identify a possible cause of the failure. Click <a href='https://aka.ms/vscodeJupyterKernelCrash'>here</a> for more info. View Jupyter <a href='command:jupyter.viewOutput'>log</a> for further details."
     ]
    }
   ],
   "source": [
    "second_qs = problem.second_q_ops()"
   ]
  }
 ],
 "metadata": {
  "kernelspec": {
   "display_name": "Python 3",
   "language": "python",
   "name": "python3"
  },
  "language_info": {
   "codemirror_mode": {
    "name": "ipython",
    "version": 3
   },
   "file_extension": ".py",
   "mimetype": "text/x-python",
   "name": "python",
   "nbconvert_exporter": "python",
   "pygments_lexer": "ipython3",
   "version": "3.10.13"
  }
 },
 "nbformat": 4,
 "nbformat_minor": 2
}
