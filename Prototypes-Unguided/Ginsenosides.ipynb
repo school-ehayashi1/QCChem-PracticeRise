{
 "cells": [
  {
   "cell_type": "code",
   "execution_count": 1,
   "metadata": {},
   "outputs": [],
   "source": [
    "from qiskit_nature.second_q.drivers import PySCFDriver, ElectronicStructureDriver\n",
    "from qiskit_nature.second_q.problems import ElectronicStructureProblem\n",
    "from qiskit_nature.second_q.mappers import JordanWignerMapper\n",
    "from qiskit_nature.second_q.transformers import ActiveSpaceTransformer, FreezeCoreTransformer\n",
    "from qiskit_nature.second_q.formats.molecule_info import MoleculeInfo\n",
    "from qiskit_algorithms import VQE\n",
    "from qiskit_algorithms.optimizers import SLSQP\n",
    "from qiskit_nature.second_q.circuit.library.ansatzes import UCCSD\n",
    "from qiskit_nature.second_q.circuit.library.initial_states import HartreeFock\n",
    "from qiskit.primitives import Estimator\n",
    "# https://www.webqc.org/molecularformatsconverter.php"
   ]
  },
  {
   "cell_type": "code",
   "execution_count": 2,
   "metadata": {},
   "outputs": [
    {
     "name": "stderr",
     "output_type": "stream",
     "text": [
      "/home/codespace/.python/current/lib/python3.10/site-packages/pyscf/dft/libxc.py:771: UserWarning: Since PySCF-2.3, B3LYP (and B3P86) are changed to the VWN-RPA variant, corresponding to the original definition by Stephens et al. (issue 1480) and the same as the B3LYP functional in Gaussian. To restore the VWN5 definition, you can put the setting \"B3LYP_WITH_VWN5 = True\" in pyscf_conf.py\n",
      "  warnings.warn('Since PySCF-2.3, B3LYP (and B3P86) are changed to the VWN-RPA variant, '\n"
     ]
    }
   ],
   "source": [
    "with open(\"Ginsenosides.xyz\") as f:\n",
    "    list_reader = f.readlines()\n",
    "xyz = list_reader[2:]\n",
    "\n",
    "list_molecule = ';'.join([i.replace('\\n', ' ') for i in xyz])\n",
    "def processMolecule(xyz):\n",
    "    return [i.split()[0] for i in xyz], [tuple(i.split()[1:]) for i in xyz]\n",
    "molecule = MoleculeInfo(\n",
    "    symbols = processMolecule(xyz)[0],\n",
    "    coords = processMolecule(xyz)[1],\n",
    "    charge=0\n",
    ")\n",
    "driver = PySCFDriver(\n",
    "    atom=list_molecule,\n",
    "    charge=0,\n",
    "    spin=1,\n",
    ")\n",
    "#driver = PySCFDriver.from_molecule(driver)\n",
    "problem = driver.run()\n"
   ]
  },
  {
   "cell_type": "code",
   "execution_count": 3,
   "metadata": {},
   "outputs": [
    {
     "data": {
      "text/plain": [
       "<qiskit_nature.second_q.hamiltonians.electronic_energy.ElectronicEnergy at 0x7f379c692680>"
      ]
     },
     "execution_count": 3,
     "metadata": {},
     "output_type": "execute_result"
    }
   ],
   "source": [
    "problem.hamiltonian"
   ]
  },
  {
   "cell_type": "code",
   "execution_count": 4,
   "metadata": {},
   "outputs": [
    {
     "name": "stdout",
     "output_type": "stream",
     "text": [
      "165\n",
      "(101, 100)\n"
     ]
    }
   ],
   "source": [
    "problem.num_alpha\n",
    "problem.num_beta\n",
    "print(problem.num_spatial_orbitals)\n",
    "print(problem.num_particles)"
   ]
  },
  {
   "cell_type": "code",
   "execution_count": 5,
   "metadata": {},
   "outputs": [],
   "source": [
    "transformer = ActiveSpaceTransformer(num_electrons=2, num_spatial_orbitals=2, active_orbitals=[0,1])\n",
    "#transformer.prepare_active_space(problem.num_particles, problem.num_spatial_orbitals)\n",
    "#transformer = FreezeCoreTransformer(True)\n",
    "#transformer.prepare_active_space(molecule, problem.num_spatial_orbitals)\n",
    "redproblem= transformer.transform(problem)"
   ]
  },
  {
   "cell_type": "code",
   "execution_count": 6,
   "metadata": {},
   "outputs": [],
   "source": [
    "mapper = JordanWignerMapper()"
   ]
  },
  {
   "cell_type": "code",
   "execution_count": 7,
   "metadata": {},
   "outputs": [
    {
     "name": "stdout",
     "output_type": "stream",
     "text": [
      "330\n"
     ]
    },
    {
     "ename": "AttributeError",
     "evalue": "'ElectronicStructureProblem' object has no attribute 'num_qubits'",
     "output_type": "error",
     "traceback": [
      "\u001b[0;31m---------------------------------------------------------------------------\u001b[0m",
      "\u001b[0;31mAttributeError\u001b[0m                            Traceback (most recent call last)",
      "Cell \u001b[0;32mIn[7], line 17\u001b[0m\n\u001b[1;32m     14\u001b[0m initial_point\u001b[38;5;241m.\u001b[39mproblem \u001b[38;5;241m=\u001b[39m redproblem\n\u001b[1;32m     16\u001b[0m \u001b[38;5;28mprint\u001b[39m(ansatz\u001b[38;5;241m.\u001b[39mnum_qubits)\n\u001b[0;32m---> 17\u001b[0m \u001b[38;5;28mprint\u001b[39m(\u001b[43mredproblem\u001b[49m\u001b[38;5;241;43m.\u001b[39;49m\u001b[43mnum_qubits\u001b[49m)\n",
      "\u001b[0;31mAttributeError\u001b[0m: 'ElectronicStructureProblem' object has no attribute 'num_qubits'"
     ]
    }
   ],
   "source": [
    "ansatz = UCCSD(\n",
    "    num_particles = redproblem.num_particles,\n",
    "    num_spatial_orbitals = problem.num_spatial_orbitals,\n",
    "    qubit_mapper= mapper,\n",
    "    initial_state = HartreeFock(\n",
    "        num_particles = redproblem.num_particles,\n",
    "        num_spatial_orbitals = redproblem.num_spatial_orbitals,\n",
    "        qubit_mapper = mapper\n",
    "    )\n",
    ")\n",
    "from qiskit_nature.second_q.algorithms.initial_points import HFInitialPoint\n",
    "initial_point = HFInitialPoint()\n",
    "initial_point.ansatz = ansatz\n",
    "initial_point.problem = redproblem\n",
    "\n",
    "print(ansatz.num_qubits)\n",
    "print(redproblem.num_qubits)"
   ]
  },
  {
   "cell_type": "code",
   "execution_count": null,
   "metadata": {},
   "outputs": [
    {
     "ename": "AttributeError",
     "evalue": "'ElectronicEnergy' object has no attribute 'num_qubits'",
     "output_type": "error",
     "traceback": [
      "\u001b[0;31m---------------------------------------------------------------------------\u001b[0m",
      "\u001b[0;31mAttributeError\u001b[0m                            Traceback (most recent call last)",
      "Cell \u001b[0;32mIn[6], line 1\u001b[0m\n\u001b[0;32m----> 1\u001b[0m \u001b[43mredproblem\u001b[49m\u001b[38;5;241;43m.\u001b[39;49m\u001b[43mhamiltonian\u001b[49m\u001b[38;5;241;43m.\u001b[39;49m\u001b[43mnum_qubits\u001b[49m\n",
      "\u001b[0;31mAttributeError\u001b[0m: 'ElectronicEnergy' object has no attribute 'num_qubits'"
     ]
    }
   ],
   "source": [
    "redproblem.hamiltonian.num_qubits"
   ]
  },
  {
   "cell_type": "code",
   "execution_count": null,
   "metadata": {},
   "outputs": [],
   "source": [
    "\n",
    "filename = \"GinsenosidesParams.txt\"\n",
    "def ccallback(nfev, parameters, energy, stddev):\n",
    "    with open(\"GinsenosidesParams.txt\", \"a\") as f:\n",
    "        f.write('\\n\\n\\n')\n",
    "        f.write(parameters)\n",
    "    print(\"hello\")\n",
    "solver = VQE(Estimator(), ansatz, SLSQP(), callback = ccallback)\n",
    "solver.initial_point = initial_point.to_numpy_array()"
   ]
  },
  {
   "cell_type": "code",
   "execution_count": null,
   "metadata": {},
   "outputs": [
    {
     "ename": "MemoryError",
     "evalue": "Unable to allocate 88.4 GiB for an array with shape (2, 165, 2, 165, 2, 165, 2, 165) and data type float64",
     "output_type": "error",
     "traceback": [
      "\u001b[0;31m---------------------------------------------------------------------------\u001b[0m",
      "\u001b[0;31mMemoryError\u001b[0m                               Traceback (most recent call last)",
      "Cell \u001b[0;32mIn[10], line 3\u001b[0m\n\u001b[1;32m      1\u001b[0m \u001b[38;5;28;01mfrom\u001b[39;00m \u001b[38;5;21;01mqiskit_nature\u001b[39;00m\u001b[38;5;21;01m.\u001b[39;00m\u001b[38;5;21;01msecond_q\u001b[39;00m\u001b[38;5;21;01m.\u001b[39;00m\u001b[38;5;21;01malgorithms\u001b[39;00m \u001b[38;5;28;01mimport\u001b[39;00m GroundStateEigensolver\n\u001b[1;32m      2\u001b[0m true_solver \u001b[38;5;241m=\u001b[39m GroundStateEigensolver(mapper, solver)\n\u001b[0;32m----> 3\u001b[0m results \u001b[38;5;241m=\u001b[39m \u001b[43mtrue_solver\u001b[49m\u001b[38;5;241;43m.\u001b[39;49m\u001b[43msolve\u001b[49m\u001b[43m(\u001b[49m\u001b[43mproblem\u001b[49m\u001b[43m)\u001b[49m\n\u001b[1;32m      4\u001b[0m \u001b[38;5;28;01mwith\u001b[39;00m \u001b[38;5;28mopen\u001b[39m(\u001b[38;5;124m\"\u001b[39m\u001b[38;5;124mGinsenosides-Results.txt\u001b[39m\u001b[38;5;124m\"\u001b[39m, \u001b[38;5;124m\"\u001b[39m\u001b[38;5;124mw\u001b[39m\u001b[38;5;124m\"\u001b[39m) \u001b[38;5;28;01mas\u001b[39;00m f:\n\u001b[1;32m      5\u001b[0m    f\u001b[38;5;241m.\u001b[39mwrite(results)\n",
      "File \u001b[0;32m~/.python/current/lib/python3.10/site-packages/qiskit_nature/second_q/algorithms/ground_state_solvers/ground_state_eigensolver.py:72\u001b[0m, in \u001b[0;36mGroundStateEigensolver.solve\u001b[0;34m(self, problem, aux_operators)\u001b[0m\n\u001b[1;32m     57\u001b[0m \u001b[38;5;28;01mdef\u001b[39;00m \u001b[38;5;21msolve\u001b[39m(\n\u001b[1;32m     58\u001b[0m     \u001b[38;5;28mself\u001b[39m,\n\u001b[1;32m     59\u001b[0m     problem: BaseProblem,\n\u001b[1;32m     60\u001b[0m     aux_operators: \u001b[38;5;28mdict\u001b[39m[\u001b[38;5;28mstr\u001b[39m, SparseLabelOp \u001b[38;5;241m|\u001b[39m SparsePauliOp] \u001b[38;5;241m|\u001b[39m \u001b[38;5;28;01mNone\u001b[39;00m \u001b[38;5;241m=\u001b[39m \u001b[38;5;28;01mNone\u001b[39;00m,\n\u001b[1;32m     61\u001b[0m ) \u001b[38;5;241m-\u001b[39m\u001b[38;5;241m>\u001b[39m EigenstateResult:\n\u001b[1;32m     62\u001b[0m \u001b[38;5;250m    \u001b[39m\u001b[38;5;124;03m\"\"\"Compute Ground State properties.\u001b[39;00m\n\u001b[1;32m     63\u001b[0m \n\u001b[1;32m     64\u001b[0m \u001b[38;5;124;03m    Args:\u001b[39;00m\n\u001b[0;32m   (...)\u001b[0m\n\u001b[1;32m     70\u001b[0m \u001b[38;5;124;03m        :meth:`~.BaseProblem.interpret`.\u001b[39;00m\n\u001b[1;32m     71\u001b[0m \u001b[38;5;124;03m    \"\"\"\u001b[39;00m\n\u001b[0;32m---> 72\u001b[0m     main_operator, aux_ops \u001b[38;5;241m=\u001b[39m \u001b[38;5;28;43mself\u001b[39;49m\u001b[38;5;241;43m.\u001b[39;49m\u001b[43mget_qubit_operators\u001b[49m\u001b[43m(\u001b[49m\u001b[43mproblem\u001b[49m\u001b[43m,\u001b[49m\u001b[43m \u001b[49m\u001b[43maux_operators\u001b[49m\u001b[43m)\u001b[49m\n\u001b[1;32m     73\u001b[0m     raw_mes_result \u001b[38;5;241m=\u001b[39m \u001b[38;5;28mself\u001b[39m\u001b[38;5;241m.\u001b[39msolver\u001b[38;5;241m.\u001b[39mcompute_minimum_eigenvalue(main_operator, aux_ops)\n\u001b[1;32m     75\u001b[0m     eigenstate_result \u001b[38;5;241m=\u001b[39m EigenstateResult\u001b[38;5;241m.\u001b[39mfrom_result(raw_mes_result)\n",
      "File \u001b[0;32m~/.python/current/lib/python3.10/site-packages/qiskit_nature/second_q/algorithms/ground_state_solvers/ground_state_eigensolver.py:86\u001b[0m, in \u001b[0;36mGroundStateEigensolver.get_qubit_operators\u001b[0;34m(self, problem, aux_operators)\u001b[0m\n\u001b[1;32m     79\u001b[0m \u001b[38;5;28;01mdef\u001b[39;00m \u001b[38;5;21mget_qubit_operators\u001b[39m(\n\u001b[1;32m     80\u001b[0m     \u001b[38;5;28mself\u001b[39m,\n\u001b[1;32m     81\u001b[0m     problem: BaseProblem,\n\u001b[0;32m   (...)\u001b[0m\n\u001b[1;32m     84\u001b[0m     \u001b[38;5;66;03m# Note that ``aux_ops`` contains not only the transformed ``aux_operators`` passed by the\u001b[39;00m\n\u001b[1;32m     85\u001b[0m     \u001b[38;5;66;03m# user but also additional ones from the transformation\u001b[39;00m\n\u001b[0;32m---> 86\u001b[0m     main_second_q_op, aux_second_q_ops \u001b[38;5;241m=\u001b[39m \u001b[43mproblem\u001b[49m\u001b[38;5;241;43m.\u001b[39;49m\u001b[43msecond_q_ops\u001b[49m\u001b[43m(\u001b[49m\u001b[43m)\u001b[49m\n\u001b[1;32m     88\u001b[0m     main_operator \u001b[38;5;241m=\u001b[39m \u001b[38;5;28mself\u001b[39m\u001b[38;5;241m.\u001b[39m_qubit_mapper\u001b[38;5;241m.\u001b[39mmap(main_second_q_op)\n\u001b[1;32m     89\u001b[0m     aux_ops \u001b[38;5;241m=\u001b[39m \u001b[38;5;28mself\u001b[39m\u001b[38;5;241m.\u001b[39m_qubit_mapper\u001b[38;5;241m.\u001b[39mmap(aux_second_q_ops)\n",
      "File \u001b[0;32m~/.python/current/lib/python3.10/site-packages/qiskit_nature/second_q/problems/base_problem.py:68\u001b[0m, in \u001b[0;36mBaseProblem.second_q_ops\u001b[0;34m(self)\u001b[0m\n\u001b[1;32m     61\u001b[0m \u001b[38;5;28;01mdef\u001b[39;00m \u001b[38;5;21msecond_q_ops\u001b[39m(\u001b[38;5;28mself\u001b[39m) \u001b[38;5;241m-\u001b[39m\u001b[38;5;241m>\u001b[39m \u001b[38;5;28mtuple\u001b[39m[SparseLabelOp, \u001b[38;5;28mdict\u001b[39m[\u001b[38;5;28mstr\u001b[39m, SparseLabelOp]]:\n\u001b[1;32m     62\u001b[0m \u001b[38;5;250m    \u001b[39m\u001b[38;5;124;03m\"\"\"Returns the second quantized operators associated with this problem.\u001b[39;00m\n\u001b[1;32m     63\u001b[0m \n\u001b[1;32m     64\u001b[0m \u001b[38;5;124;03m    Returns:\u001b[39;00m\n\u001b[1;32m     65\u001b[0m \u001b[38;5;124;03m        A tuple, with the first object being the main operator and the second being a dictionary\u001b[39;00m\n\u001b[1;32m     66\u001b[0m \u001b[38;5;124;03m        of auxiliary operators.\u001b[39;00m\n\u001b[1;32m     67\u001b[0m \u001b[38;5;124;03m    \"\"\"\u001b[39;00m\n\u001b[0;32m---> 68\u001b[0m     main_op \u001b[38;5;241m=\u001b[39m \u001b[38;5;28;43mself\u001b[39;49m\u001b[38;5;241;43m.\u001b[39;49m\u001b[43mhamiltonian\u001b[49m\u001b[38;5;241;43m.\u001b[39;49m\u001b[43msecond_q_op\u001b[49m\u001b[43m(\u001b[49m\u001b[43m)\u001b[49m\n\u001b[1;32m     70\u001b[0m     aux_ops: \u001b[38;5;28mdict\u001b[39m[\u001b[38;5;28mstr\u001b[39m, SparseLabelOp] \u001b[38;5;241m=\u001b[39m {}\n\u001b[1;32m     71\u001b[0m     \u001b[38;5;28;01mfor\u001b[39;00m prop \u001b[38;5;129;01min\u001b[39;00m \u001b[38;5;28mself\u001b[39m\u001b[38;5;241m.\u001b[39mproperties:\n",
      "File \u001b[0;32m~/.python/current/lib/python3.10/site-packages/qiskit_nature/second_q/hamiltonians/electronic_energy.py:192\u001b[0m, in \u001b[0;36mElectronicEnergy.second_q_op\u001b[0;34m(self)\u001b[0m\n\u001b[1;32m    186\u001b[0m \u001b[38;5;28;01mdef\u001b[39;00m \u001b[38;5;21msecond_q_op\u001b[39m(\u001b[38;5;28mself\u001b[39m) \u001b[38;5;241m-\u001b[39m\u001b[38;5;241m>\u001b[39m FermionicOp:\n\u001b[1;32m    187\u001b[0m \u001b[38;5;250m    \u001b[39m\u001b[38;5;124;03m\"\"\"Returns the second quantized operator constructed from the contained electronic integrals.\u001b[39;00m\n\u001b[1;32m    188\u001b[0m \n\u001b[1;32m    189\u001b[0m \u001b[38;5;124;03m    Returns:\u001b[39;00m\n\u001b[1;32m    190\u001b[0m \u001b[38;5;124;03m        A ``FermionicOp`` instance.\u001b[39;00m\n\u001b[1;32m    191\u001b[0m \u001b[38;5;124;03m    \"\"\"\u001b[39;00m\n\u001b[0;32m--> 192\u001b[0m     \u001b[38;5;28;01mreturn\u001b[39;00m FermionicOp\u001b[38;5;241m.\u001b[39mfrom_polynomial_tensor(\u001b[38;5;28;43mself\u001b[39;49m\u001b[38;5;241;43m.\u001b[39;49m\u001b[43melectronic_integrals\u001b[49m\u001b[38;5;241;43m.\u001b[39;49m\u001b[43msecond_q_coeffs\u001b[49m\u001b[43m(\u001b[49m\u001b[43m)\u001b[49m)\n",
      "File \u001b[0;32m~/.python/current/lib/python3.10/site-packages/qiskit_nature/second_q/operators/electronic_integrals.py:740\u001b[0m, in \u001b[0;36mElectronicIntegrals.second_q_coeffs\u001b[0;34m(self)\u001b[0m\n\u001b[1;32m    737\u001b[0m     kron_two_body[ba_index] \u001b[38;5;241m=\u001b[39m \u001b[38;5;241m0.5\u001b[39m\n\u001b[1;32m    738\u001b[0m     kron_two_body[ab_index] \u001b[38;5;241m=\u001b[39m \u001b[38;5;241m0.5\u001b[39m\n\u001b[0;32m--> 740\u001b[0m     tensor_blocked_spin_orbitals \u001b[38;5;241m=\u001b[39m \u001b[43mPolynomialTensor\u001b[49m\u001b[38;5;241;43m.\u001b[39;49m\u001b[43mapply\u001b[49m\u001b[43m(\u001b[49m\u001b[43mnp\u001b[49m\u001b[38;5;241;43m.\u001b[39;49m\u001b[43mkron\u001b[49m\u001b[43m,\u001b[49m\u001b[43m \u001b[49m\u001b[43mkron_tensor\u001b[49m\u001b[43m,\u001b[49m\u001b[43m \u001b[49m\u001b[38;5;28;43mself\u001b[39;49m\u001b[38;5;241;43m.\u001b[39;49m\u001b[43malpha\u001b[49m\u001b[43m)\u001b[49m\n\u001b[1;32m    741\u001b[0m     \u001b[38;5;28;01mreturn\u001b[39;00m cast(PolynomialTensor, tensor_blocked_spin_orbitals)\n\u001b[1;32m    743\u001b[0m tensor_blocked_spin_orbitals \u001b[38;5;241m=\u001b[39m PolynomialTensor({})\n",
      "File \u001b[0;32m~/.python/current/lib/python3.10/site-packages/qiskit_nature/second_q/operators/polynomial_tensor.py:613\u001b[0m, in \u001b[0;36mPolynomialTensor.apply\u001b[0;34m(cls, function, multi, validate, *operands)\u001b[0m\n\u001b[1;32m    611\u001b[0m new_tensors: \u001b[38;5;28mlist\u001b[39m[\u001b[38;5;28mdict\u001b[39m[\u001b[38;5;28mstr\u001b[39m, Tensor]] \u001b[38;5;241m=\u001b[39m [{}]\n\u001b[1;32m    612\u001b[0m \u001b[38;5;28;01mfor\u001b[39;00m key \u001b[38;5;129;01min\u001b[39;00m common_keys:\n\u001b[0;32m--> 613\u001b[0m     results \u001b[38;5;241m=\u001b[39m cast(Tensor, \u001b[43mfunction\u001b[49m\u001b[43m(\u001b[49m\u001b[38;5;241;43m*\u001b[39;49m\u001b[43m(\u001b[49m\u001b[43mop\u001b[49m\u001b[43m[\u001b[49m\u001b[43mkey\u001b[49m\u001b[43m]\u001b[49m\u001b[43m \u001b[49m\u001b[38;5;28;43;01mfor\u001b[39;49;00m\u001b[43m \u001b[49m\u001b[43mop\u001b[49m\u001b[43m \u001b[49m\u001b[38;5;129;43;01min\u001b[39;49;00m\u001b[43m \u001b[49m\u001b[43moperands\u001b[49m\u001b[43m)\u001b[49m\u001b[43m)\u001b[49m)\n\u001b[1;32m    615\u001b[0m     \u001b[38;5;28;01mif\u001b[39;00m multi:\n\u001b[1;32m    616\u001b[0m         \u001b[38;5;28;01mfor\u001b[39;00m idx, res \u001b[38;5;129;01min\u001b[39;00m \u001b[38;5;28menumerate\u001b[39m(results):\n",
      "File \u001b[0;32m~/.python/current/lib/python3.10/site-packages/qiskit_nature/second_q/operators/symmetric_two_body.py:156\u001b[0m, in \u001b[0;36mSymmetricTwoBodyIntegrals.__array_function__\u001b[0;34m(self, func, types, args, kwargs)\u001b[0m\n\u001b[1;32m    154\u001b[0m \u001b[38;5;28;01mdef\u001b[39;00m \u001b[38;5;21m__array_function__\u001b[39m(\u001b[38;5;28mself\u001b[39m, func, types, args, kwargs):\n\u001b[1;32m    155\u001b[0m     \u001b[38;5;28;01mif\u001b[39;00m func \u001b[38;5;129;01min\u001b[39;00m \u001b[38;5;28mself\u001b[39m\u001b[38;5;241m.\u001b[39m_HANDLED_FUNCTIONS:\n\u001b[0;32m--> 156\u001b[0m         \u001b[38;5;28;01mreturn\u001b[39;00m \u001b[38;5;28;43mself\u001b[39;49m\u001b[38;5;241;43m.\u001b[39;49m\u001b[43m_numpy_function_via_s1\u001b[49m\u001b[43m(\u001b[49m\u001b[43mfunc\u001b[49m\u001b[43m,\u001b[49m\u001b[43m \u001b[49m\u001b[43mtypes\u001b[49m\u001b[43m,\u001b[49m\u001b[43m \u001b[49m\u001b[43margs\u001b[49m\u001b[43m,\u001b[49m\u001b[43m \u001b[49m\u001b[43mkwargs\u001b[49m\u001b[43m)\u001b[49m\n\u001b[1;32m    157\u001b[0m     \u001b[38;5;28;01mtry\u001b[39;00m:\n\u001b[1;32m    158\u001b[0m         \u001b[38;5;28;01mreturn\u001b[39;00m \u001b[38;5;28msuper\u001b[39m()\u001b[38;5;241m.\u001b[39m__array_function__(func, types, args, kwargs)\n",
      "File \u001b[0;32m~/.python/current/lib/python3.10/site-packages/qiskit_nature/second_q/operators/symmetric_two_body.py:183\u001b[0m, in \u001b[0;36mSymmetricTwoBodyIntegrals._numpy_function_via_s1\u001b[0;34m(self, func, types, args, kwargs)\u001b[0m\n\u001b[1;32m    181\u001b[0m         new_types\u001b[38;5;241m.\u001b[39mappend(t)\n\u001b[1;32m    182\u001b[0m kwargs[\u001b[38;5;124m\"\u001b[39m\u001b[38;5;124mcontext\u001b[39m\u001b[38;5;124m\"\u001b[39m] \u001b[38;5;241m=\u001b[39m \u001b[38;5;124m\"\u001b[39m\u001b[38;5;124m_numpy_function_via_s1\u001b[39m\u001b[38;5;124m\"\u001b[39m\n\u001b[0;32m--> 183\u001b[0m \u001b[38;5;28;01mreturn\u001b[39;00m \u001b[38;5;28;43msuper\u001b[39;49m\u001b[43m(\u001b[49m\u001b[43m)\u001b[49m\u001b[38;5;241;43m.\u001b[39;49m\u001b[43m__array_function__\u001b[49m\u001b[43m(\u001b[49m\u001b[43mfunc\u001b[49m\u001b[43m,\u001b[49m\u001b[43m \u001b[49m\u001b[38;5;28;43mtuple\u001b[39;49m\u001b[43m(\u001b[49m\u001b[43mnew_types\u001b[49m\u001b[43m)\u001b[49m\u001b[43m,\u001b[49m\u001b[43m \u001b[49m\u001b[38;5;28;43mtuple\u001b[39;49m\u001b[43m(\u001b[49m\u001b[43mnew_args\u001b[49m\u001b[43m)\u001b[49m\u001b[43m,\u001b[49m\u001b[43m \u001b[49m\u001b[43mkwargs\u001b[49m\u001b[43m)\u001b[49m\n",
      "File \u001b[0;32m~/.python/current/lib/python3.10/site-packages/qiskit_nature/second_q/operators/tensor.py:186\u001b[0m, in \u001b[0;36mTensor.__array_function__\u001b[0;34m(self, func, types, args, kwargs)\u001b[0m\n\u001b[1;32m    184\u001b[0m new_args \u001b[38;5;241m=\u001b[39m _unpack_args(args)\n\u001b[1;32m    185\u001b[0m context \u001b[38;5;241m=\u001b[39m kwargs\u001b[38;5;241m.\u001b[39mpop(\u001b[38;5;124m\"\u001b[39m\u001b[38;5;124mcontext\u001b[39m\u001b[38;5;124m\"\u001b[39m, \u001b[38;5;28;01mNone\u001b[39;00m)\n\u001b[0;32m--> 186\u001b[0m ret \u001b[38;5;241m=\u001b[39m \u001b[43mfunc\u001b[49m\u001b[43m(\u001b[49m\u001b[38;5;241;43m*\u001b[39;49m\u001b[43mnew_args\u001b[49m\u001b[43m,\u001b[49m\u001b[43m \u001b[49m\u001b[38;5;241;43m*\u001b[39;49m\u001b[38;5;241;43m*\u001b[39;49m\u001b[43mkwargs\u001b[49m\u001b[43m)\u001b[49m\n\u001b[1;32m    187\u001b[0m \u001b[38;5;28;01mif\u001b[39;00m \u001b[38;5;28misinstance\u001b[39m(ret, (np\u001b[38;5;241m.\u001b[39mndarray, SparseArray)):\n\u001b[1;32m    188\u001b[0m     \u001b[38;5;28;01mreturn\u001b[39;00m \u001b[38;5;28mself\u001b[39m\u001b[38;5;241m.\u001b[39m__array_wrap__(ret, context)\n",
      "File \u001b[0;32m~/.local/lib/python3.10/site-packages/numpy/lib/shape_base.py:1173\u001b[0m, in \u001b[0;36mkron\u001b[0;34m(a, b)\u001b[0m\n\u001b[1;32m   1171\u001b[0m b_arr \u001b[38;5;241m=\u001b[39m expand_dims(b_arr, axis\u001b[38;5;241m=\u001b[39m\u001b[38;5;28mtuple\u001b[39m(\u001b[38;5;28mrange\u001b[39m(\u001b[38;5;241m0\u001b[39m, nd\u001b[38;5;241m*\u001b[39m\u001b[38;5;241m2\u001b[39m, \u001b[38;5;241m2\u001b[39m)))\n\u001b[1;32m   1172\u001b[0m \u001b[38;5;66;03m# In case of `mat`, convert result to `array`\u001b[39;00m\n\u001b[0;32m-> 1173\u001b[0m result \u001b[38;5;241m=\u001b[39m \u001b[43m_nx\u001b[49m\u001b[38;5;241;43m.\u001b[39;49m\u001b[43mmultiply\u001b[49m\u001b[43m(\u001b[49m\u001b[43ma_arr\u001b[49m\u001b[43m,\u001b[49m\u001b[43m \u001b[49m\u001b[43mb_arr\u001b[49m\u001b[43m,\u001b[49m\u001b[43m \u001b[49m\u001b[43msubok\u001b[49m\u001b[38;5;241;43m=\u001b[39;49m\u001b[43m(\u001b[49m\u001b[38;5;129;43;01mnot\u001b[39;49;00m\u001b[43m \u001b[49m\u001b[43mis_any_mat\u001b[49m\u001b[43m)\u001b[49m\u001b[43m)\u001b[49m\n\u001b[1;32m   1175\u001b[0m \u001b[38;5;66;03m# Reshape back\u001b[39;00m\n\u001b[1;32m   1176\u001b[0m result \u001b[38;5;241m=\u001b[39m result\u001b[38;5;241m.\u001b[39mreshape(_nx\u001b[38;5;241m.\u001b[39mmultiply(as_, bs))\n",
      "\u001b[0;31mMemoryError\u001b[0m: Unable to allocate 88.4 GiB for an array with shape (2, 165, 2, 165, 2, 165, 2, 165) and data type float64"
     ]
    }
   ],
   "source": [
    "from qiskit_nature.second_q.algorithms import GroundStateEigensolver\n",
    "true_solver = GroundStateEigensolver(mapper, solver)\n",
    "results = true_solver.solve(problem)\n",
    "with open(\"Ginsenosides-Results.txt\", \"w\") as f:\n",
    "   f.write(results)"
   ]
  },
  {
   "cell_type": "code",
   "execution_count": null,
   "metadata": {},
   "outputs": [
    {
     "ename": "",
     "evalue": "",
     "output_type": "error",
     "traceback": [
      "\u001b[1;31mThe Kernel crashed while executing code in the the current cell or a previous cell. Please review the code in the cell(s) to identify a possible cause of the failure. Click <a href='https://aka.ms/vscodeJupyterKernelCrash'>here</a> for more info. View Jupyter <a href='command:jupyter.viewOutput'>log</a> for further details."
     ]
    }
   ],
   "source": [
    "true_solver.solve(problem)"
   ]
  },
  {
   "cell_type": "code",
   "execution_count": null,
   "metadata": {},
   "outputs": [
    {
     "ename": "NameError",
     "evalue": "name 'ansatz' is not defined",
     "output_type": "error",
     "traceback": [
      "\u001b[0;31m---------------------------------------------------------------------------\u001b[0m",
      "\u001b[0;31mNameError\u001b[0m                                 Traceback (most recent call last)",
      "Cell \u001b[0;32mIn[1], line 1\u001b[0m\n\u001b[0;32m----> 1\u001b[0m \u001b[38;5;28mprint\u001b[39m(\u001b[43mansatz\u001b[49m\u001b[38;5;241m.\u001b[39mnum_qubits)\n",
      "\u001b[0;31mNameError\u001b[0m: name 'ansatz' is not defined"
     ]
    }
   ],
   "source": [
    "print(ansatz.num_qubits)\n",
    "print(problem.num_qubits)"
   ]
  },
  {
   "cell_type": "code",
   "execution_count": null,
   "metadata": {},
   "outputs": [
    {
     "name": "stdout",
     "output_type": "stream",
     "text": [
      "\n"
     ]
    }
   ],
   "source": [
    "with open(\"GinsenosidesParams.txt\") as f:\n",
    "    print(f.read())"
   ]
  }
 ],
 "metadata": {
  "kernelspec": {
   "display_name": "Python 3",
   "language": "python",
   "name": "python3"
  },
  "language_info": {
   "codemirror_mode": {
    "name": "ipython",
    "version": 3
   },
   "file_extension": ".py",
   "mimetype": "text/x-python",
   "name": "python",
   "nbconvert_exporter": "python",
   "pygments_lexer": "ipython3",
   "version": "3.10.13"
  }
 },
 "nbformat": 4,
 "nbformat_minor": 2
}
